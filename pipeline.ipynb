{
 "cells": [
  {
   "cell_type": "markdown",
   "metadata": {},
   "source": [
    "# Setup"
   ]
  },
  {
   "cell_type": "code",
   "execution_count": 3,
   "metadata": {},
   "outputs": [
    {
     "name": "stdout",
     "output_type": "stream",
     "text": [
      "Collecting requests (from -r requirements.txt (line 1))\n",
      "  Obtaining dependency information for requests from https://files.pythonhosted.org/packages/f9/9b/335f9764261e915ed497fcdeb11df5dfd6f7bf257d4a6a2a686d80da4d54/requests-2.32.3-py3-none-any.whl.metadata\n",
      "  Using cached requests-2.32.3-py3-none-any.whl.metadata (4.6 kB)\n",
      "Collecting charset-normalizer<4,>=2 (from requests->-r requirements.txt (line 1))\n",
      "  Obtaining dependency information for charset-normalizer<4,>=2 from https://files.pythonhosted.org/packages/72/80/41ef5d5a7935d2d3a773e3eaebf0a9350542f2cab4eac59a7a4741fbbbbe/charset_normalizer-3.4.1-cp311-cp311-macosx_10_9_universal2.whl.metadata\n",
      "  Using cached charset_normalizer-3.4.1-cp311-cp311-macosx_10_9_universal2.whl.metadata (35 kB)\n",
      "Collecting idna<4,>=2.5 (from requests->-r requirements.txt (line 1))\n",
      "  Obtaining dependency information for idna<4,>=2.5 from https://files.pythonhosted.org/packages/76/c6/c88e154df9c4e1a2a66ccf0005a88dfb2650c1dffb6f5ce603dfbd452ce3/idna-3.10-py3-none-any.whl.metadata\n",
      "  Using cached idna-3.10-py3-none-any.whl.metadata (10 kB)\n",
      "Collecting urllib3<3,>=1.21.1 (from requests->-r requirements.txt (line 1))\n",
      "  Obtaining dependency information for urllib3<3,>=1.21.1 from https://files.pythonhosted.org/packages/c8/19/4ec628951a74043532ca2cf5d97b7b14863931476d117c471e8e2b1eb39f/urllib3-2.3.0-py3-none-any.whl.metadata\n",
      "  Using cached urllib3-2.3.0-py3-none-any.whl.metadata (6.5 kB)\n",
      "Collecting certifi>=2017.4.17 (from requests->-r requirements.txt (line 1))\n",
      "  Obtaining dependency information for certifi>=2017.4.17 from https://files.pythonhosted.org/packages/38/fc/bce832fd4fd99766c04d1ee0eead6b0ec6486fb100ae5e74c1d91292b982/certifi-2025.1.31-py3-none-any.whl.metadata\n",
      "  Downloading certifi-2025.1.31-py3-none-any.whl.metadata (2.5 kB)\n",
      "Using cached requests-2.32.3-py3-none-any.whl (64 kB)\n",
      "Downloading certifi-2025.1.31-py3-none-any.whl (166 kB)\n",
      "\u001b[2K   \u001b[38;2;114;156;31m━━━━━━━━━━━━━━━━━━━━━━━━━━━━━━━━━━━━━━━━\u001b[0m \u001b[32m166.4/166.4 kB\u001b[0m \u001b[31m10.7 MB/s\u001b[0m eta \u001b[36m0:00:00\u001b[0m\n",
      "\u001b[?25hUsing cached charset_normalizer-3.4.1-cp311-cp311-macosx_10_9_universal2.whl (194 kB)\n",
      "Using cached idna-3.10-py3-none-any.whl (70 kB)\n",
      "Using cached urllib3-2.3.0-py3-none-any.whl (128 kB)\n",
      "Installing collected packages: urllib3, idna, charset-normalizer, certifi, requests\n",
      "Successfully installed certifi-2025.1.31 charset-normalizer-3.4.1 idna-3.10 requests-2.32.3 urllib3-2.3.0\n",
      "\n",
      "\u001b[1m[\u001b[0m\u001b[34;49mnotice\u001b[0m\u001b[1;39;49m]\u001b[0m\u001b[39;49m A new release of pip is available: \u001b[0m\u001b[31;49m23.2.1\u001b[0m\u001b[39;49m -> \u001b[0m\u001b[32;49m25.0.1\u001b[0m\n",
      "\u001b[1m[\u001b[0m\u001b[34;49mnotice\u001b[0m\u001b[1;39;49m]\u001b[0m\u001b[39;49m To update, run: \u001b[0m\u001b[32;49mpip install --upgrade pip\u001b[0m\n",
      "Note: you may need to restart the kernel to use updated packages.\n"
     ]
    }
   ],
   "source": [
    "%pip install -r requirements.txt"
   ]
  },
  {
   "cell_type": "code",
   "execution_count": 4,
   "metadata": {},
   "outputs": [],
   "source": [
    "import requests"
   ]
  },
  {
   "cell_type": "markdown",
   "metadata": {},
   "source": [
    "# Gather Story Summary"
   ]
  },
  {
   "cell_type": "markdown",
   "metadata": {},
   "source": [
    "## Wikipedia"
   ]
  },
  {
   "cell_type": "code",
   "execution_count": 5,
   "metadata": {},
   "outputs": [],
   "source": [
    "def get_wikipedia_summary(title):\n",
    "    \"\"\"\n",
    "    Fetches the first extract of a Wikipedia article using the public MediaWiki API.\n",
    "    Returns a text summary or an empty string if not found.\n",
    "    \"\"\"\n",
    "    base_url = \"https://en.wikipedia.org/w/api.php\"\n",
    "    params = {\n",
    "        \"action\": \"query\",\n",
    "        \"prop\": \"extracts\",\n",
    "        \"explaintext\": True,\n",
    "        \"format\": \"json\",\n",
    "        \"titles\": title\n",
    "    }\n",
    "    try:\n",
    "        response = requests.get(base_url, params=params, timeout=10)\n",
    "        response.raise_for_status()\n",
    "        data = response.json()\n",
    "        pages = data.get(\"query\", {}).get(\"pages\", {})\n",
    "        for page_id, page_content in pages.items():\n",
    "            if \"extract\" in page_content:\n",
    "                # This is a raw textual extract from Wikipedia\n",
    "                return page_content[\"extract\"]\n",
    "    except requests.RequestException as e:\n",
    "        print(f\"[Wikipedia] Error fetching summary: {e}\")\n",
    "\n",
    "    return \"\""
   ]
  },
  {
   "cell_type": "code",
   "execution_count": 8,
   "metadata": {},
   "outputs": [
    {
     "name": "stdout",
     "output_type": "stream",
     "text": [
      "The Windup Girl is a biopunk science fiction novel by American writer Paolo Bacigalupi. It was his debut novel and was published by Night Shade Books on September 1, 2009. The novel is set in a future Thailand and covers a number of contemporary issues such as global warming and biotechnology.\n",
      "The Windup Girl was named as the ninth best fiction book of 2009 by Time magazine. It won the 2010 Nebula Award and the 2010 Hugo Award (tied with The City & the City by China Miéville), both for best novel. The book also won the 2010 Campbell Memorial Award, the 2010 Compton Crook Award and the 2010 Locus Award for best first novel.\n",
      "\n",
      "\n",
      "== Setting ==\n",
      "The Windup Girl is set in 23rd-century Thailand. Global warming has raised the levels of world's oceans, carbon fuel sources have become depleted, and manually wound springs are used as energy storage devices. Biotechnology is dominant and megacorporations (called calorie companies) like AgriGen, PurCal and RedStar control food production through \"genehacked\" seeds, and use bioterrorism, private armies and economic hitmen to create markets for their products. Frequent catastrophes, such as deadly and widespread plagues and illness, caused by genetically modified crops and mutant pests, ravage entire populations. The natural genetic seed stock of the world's plants has been almost completely supplanted by those that are genetically engineered to be sterile, forcing farmers to buy new seeds from the calorie companies every season.\n",
      "Thailand is an exception. It maintains its own reserve of genetically viable seeds, fights off engineered plagues and other bioterrorism, and keeps its borders firmly closed against the calorie companies and other foreign biological imports.  The capital city of Bangkok is below sea level and is protected from flooding by levees and pumps. The current monarch of Thailand is a child queen who is essentially a figurehead; the three most powerful people in Thailand are the Somdet Chaopraya (regent for the child queen), General Pracha (head of the Environment Ministry), and Minister Akkarat (head of the Trade Ministry). Pracha and Akkarat are longtime enemies, and represent the protectionist/independent/isolationist and internationalist/accommodationalist factions in the government, respectively.\n",
      "\n",
      "\n",
      "== Plot summary ==\n",
      "Anderson Lake is an economic hitman for the AgriGen Corporation, working in Thailand. He owns a factory trying to mass-produce a revolutionary new model of kink-spring (the successor, in the absence of oil or petroleum, to the internal combustion engine) that will store gigajoules of energy. However, the factory is a cover for his real mission: discovering the location of the Thai seedbank, with which Thailand has so far managed to resist the calorie companies' attempts at agro-economic subjugation. He has  heavily delegated the running of the factory to his manager, Hock Seng, a refugee from the Malaysian purge of the ethnic Chinese. Hock Seng was a successful businessman in his former life and longs for a return to his former status. To this end, he plots to steal the kink-spring designs kept in Anderson's safe.\n",
      "When Anderson visits a sex club, he meets Emiko, a \"windup girl\" - a genetically modified human created as a servant and companion. Windups are illegal in Thailand; Emiko was brought to Bangkok and abandoned by her owner, a Japanese delegate on a diplomatic mission.  Emiko lives in fear of being discovered and murdered by the Environment Ministry, and is currently in bonded servitude to Raleigh, the owner of the club. She reveals to Anderson information she has learned about the secret seedbank. In return, he tells her about a refuge in the north of Thailand where people of Emiko's kind (the \"New People\") live together. She becomes determined to escape to this place by paying off Raleigh.\n",
      "Meanwhile, the Environment Ministry' enforcement wing, known as the White Shirts, intercepts and destroys a valuable shipment of contraband. Anderson and others in the foreign trading community demand that Jaidee Rojjanasukchai, the zealous and honest captain of the White Shirts, be punished; to force Jaidee's compliance with these measures, Akkarat has Jaidee's wife kidnapped. Jaidee initially submits and is sentenced to nine years in a monastery. However, he soon realizes that he will never see his wife again, and she has likely been murdered. He escapes, but is caught and killed when he attempts to assassinate Akkarat. The other White Shirts declare him a martyr and rise up against the Trade Ministry.\n",
      "At the same time, Hock Seng learns that factory workers are falling victim to a new plague originating from the kink-spring factory and has the bodies disposed of surreptitiously. As the White Shirts take control of Bangkok, he escapes from the factory into hiding. Anderson discovers Hock Seng's flight and does the same.\n",
      "Jaidee's replacement and former protégé, Kanya, discovers the new plague and sets about trying to contain it while dealing with guilt of being Akkarat's mole and betraying Jaidee.  She reluctantly seeks help from Gibbons, the scientist at the heart of the Thai seedbank, who is revealed to be a renegade AgriGen scientist. He identifies the new plague and gives Kanya clues that lead her to Anderson's factory.\n",
      "Anderson meets with Akkarat and the Somdet Chaopraya. Anderson offers to supply a new strain of GM rice and a private army from AgriGen to repel the White Shirts in exchange for access to the seedbank and lowering of the trade barriers. Knowing of the Somdet Chaopraya's addiction to sexual novelty, he takes him to Emiko's club. When the Somdet Chaopraya and his entourage later sexually humiliate and degrade her, Emiko snaps and kills them. She escapes and seeks refuge with Anderson. Akkarat accuses General Pracha of orchestrating the Somdet Chaopraya's assassination, and the capital is plunged into civil war.\n",
      "Having failed to steal the kink-spring designs, Hock Seng tries to capture Emiko for ransom. However, Anderson makes a deal with him: Hock Seng will be patronized by AgriGen and Emiko will remain with Anderson.\n",
      "In short order, Pracha and most of the top Environment Ministry men are killed. Akkarat, now all-powerful, appoints his spy Kanya as the new chief of the Environment Ministry. He also opens up Thailand to the calorie companies, and grants Anderson and AgriGen access to the seedbank.\n",
      "Kanya accompanies the \"calorie men\" to the seedbank, where she reneges and executes the AgriGen team. She then directs the seedbank's monks to move the seeds to a pre-arranged secure location. With the hidden military arsenal in the seedbank, she orchestrates the destruction of the levees around Bangkok, flooding it.\n",
      "Bangkok's people and the capital relocate to the site of Ayutthaya. Akkarat is stripped of his powers and sentenced to servitude as a monk. Anderson dies of the plague originating from his own factory while he is in hiding with Emiko. Emiko is found by Gibbons, who promises that he will use Emiko's DNA to engineer a new race of fertile New People, thus fulfilling her dream of living with her own kind.\n",
      "\n",
      "\n",
      "== Awards and honors ==\n",
      "In September 2010, the novel won the 2010 Hugo Award for Best Novel category, tying with China Miéville's The City & the City.  In May 2010, the novel won the Nebula Award for Best Novel. In 2010, the novel won the John W. Campbell Memorial Award for Best Science Fiction Novel. In 2012 a translated version of the novel by Kazue Tanaka and Hiroshi Kaneko won a Seiun Award for \"Best Translated Long Fiction\" at the 51st Japan Science Fiction Convention. The German translation Biokrieg won the Kurd-Laßwitz-Preis in 2012. The French translation La Fille Automate won the Planète SF Award in 2012.\n",
      "\n",
      "\n",
      "== Reception ==\n",
      "Adam Roberts, reviewing the book for The Guardian, concludes \"when it hits its sweet-spot, The Windup Girl embodies what SF does best of all: it remakes reality in compelling, absorbing and thought-provoking ways, and it lives on vividly in the mind.\" The Guardian later listed it as one of the five best climate change novels.\n",
      "In SF Signal, Jason Sanford praised the novel as \"expertly crafted with beautiful writing, sympathetic characters, and a fast-paced plot\", and commended Bacigalupi for \"combin(ing) a perfect ear for language with wonderful ideas and world-building\", noting that the \"moments of horrific violence\" are \"never gratuitous\" but instead are \"integral to the novel's plot\".\n",
      "In Strange Horizons, Niall Harrison stated that the novel was \"irresistibly readable for long stretches\", due to \"the frantic excitement of uncertainty\", but described its plot as \"slightly creaky\". Harrison also compared Bacigalupi's \"exploration of the submissiveness that shapes Emiko's responses in so many situations\" to Richard K. Morgan's depiction of an equivalent situation in the 2007 novel Black Man, observing that the transition between Emiko's compelled behaviors and her independent actions is \"unconvincing\", with the result that she \"feel[s] like a short story character, rather than a novel character: an argument rather than a person.\" Ultimately, Harrison felt that although the novel \"is quite rigorously engaged with the legacies of colonialism and neo-colonialism, [it] is written by someone who benefits from those legacies.\"\n",
      "In a long-form essay in The New York Review of Science Fiction, Eric Schaller analyzed Bacigalupi's use of science, saying that the novel resembles \"pulp science fiction of a half-century ago, employing pseudoscientific MacGuffins to advance its plot and scientific vernacular as a suggestive but inaccurate veneer that does not withstand close inspection\", and judging that although the novel \"has much to recommend it\", readers need not have \"much of a background in science to recognize the fallacies inherent in many of the novel’s faulty scientific explanations,\" which on several occasions made him \"want() to hurl the book across the room because (...) its scientific fumbles [were] so aggravating.\" Schaller particularly faulted the existence of \"cheshires\" (a species of cat genetically engineered to be camouflaged so perfectly they are invisible, and which has replaced normal cats worldwide within twenty years of a small number of specimens escaping into the wild), which he held as an example of the novel's lack of \"scientific coherence\", such that \"complex genetic feats are perceived as relatively simple to engineer (while) relatively simple genetic feats are ignored or assumed too difficult to consider.\"\n",
      "Thai author Benjanun Sriduangkaew castigated Bacigalupi's portrayal of Thai culture, which she described as \"exotifying, yellow-fever, offensive claptrap\"; as well, Sriduangkaew noted that the book's acknowledgments did not mention the \"names of [any] real, living Thai people the author's talked to while researching for this book\".\n",
      "In a 2011 interview, Bacigalupi said that the process of writing The Windup Girl was \"really kind of painful and traumatic\", and that the book's positive reception is \"confusing\" to him, emphasizing that \"(w)ith Windup Girl, I felt ashamed all the time. I felt ashamed while I was writing it, I felt ashamed that I had written it, I felt ashamed that I was inflicting it on other people, and now I feel ashamed when people criticize it.\"\n",
      "\n",
      "\n",
      "== See also ==\n",
      "Climate fiction\n",
      "Climate change in Thailand\n",
      "\n",
      "\n",
      "== Footnotes ==\n",
      "\n",
      "\n",
      "== External links ==\n",
      "The Windup Girl title listing at the Internet Speculative Fiction Database\n",
      "The Windup Girl at io9.com\n"
     ]
    }
   ],
   "source": [
    "# testing with my fav solarpunk novel\n",
    "book = \"The Windup Girl\"\n",
    "summary = get_wikipedia_summary(book)\n",
    "print(summary)"
   ]
  }
 ],
 "metadata": {
  "kernelspec": {
   "display_name": "fourthwall",
   "language": "python",
   "name": "python3"
  },
  "language_info": {
   "codemirror_mode": {
    "name": "ipython",
    "version": 3
   },
   "file_extension": ".py",
   "mimetype": "text/x-python",
   "name": "python",
   "nbconvert_exporter": "python",
   "pygments_lexer": "ipython3",
   "version": "3.11.5"
  }
 },
 "nbformat": 4,
 "nbformat_minor": 2
}
