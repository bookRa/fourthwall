{
 "cells": [
  {
   "cell_type": "markdown",
   "metadata": {},
   "source": [
    "# Setup"
   ]
  },
  {
   "cell_type": "code",
   "execution_count": 10,
   "metadata": {},
   "outputs": [
    {
     "name": "stdout",
     "output_type": "stream",
     "text": [
      "Requirement already satisfied: requests in /Users/bigo/.pyenv/versions/3.11.5/envs/fourthwall/lib/python3.11/site-packages (from -r requirements.txt (line 1)) (2.32.3)\n",
      "Collecting openai (from -r requirements.txt (line 2))\n",
      "  Obtaining dependency information for openai from https://files.pythonhosted.org/packages/15/64/db3462b358072387b8e93e6e6a38d3c741a17b4a84171ef01d6c85c63f25/openai-1.63.2-py3-none-any.whl.metadata\n",
      "  Downloading openai-1.63.2-py3-none-any.whl.metadata (27 kB)\n",
      "Collecting python-dotenv (from -r requirements.txt (line 3))\n",
      "  Obtaining dependency information for python-dotenv from https://files.pythonhosted.org/packages/6a/3e/b68c118422ec867fa7ab88444e1274aa40681c606d59ac27de5a5588f082/python_dotenv-1.0.1-py3-none-any.whl.metadata\n",
      "  Downloading python_dotenv-1.0.1-py3-none-any.whl.metadata (23 kB)\n",
      "Requirement already satisfied: charset-normalizer<4,>=2 in /Users/bigo/.pyenv/versions/3.11.5/envs/fourthwall/lib/python3.11/site-packages (from requests->-r requirements.txt (line 1)) (3.4.1)\n",
      "Requirement already satisfied: idna<4,>=2.5 in /Users/bigo/.pyenv/versions/3.11.5/envs/fourthwall/lib/python3.11/site-packages (from requests->-r requirements.txt (line 1)) (3.10)\n",
      "Requirement already satisfied: urllib3<3,>=1.21.1 in /Users/bigo/.pyenv/versions/3.11.5/envs/fourthwall/lib/python3.11/site-packages (from requests->-r requirements.txt (line 1)) (2.3.0)\n",
      "Requirement already satisfied: certifi>=2017.4.17 in /Users/bigo/.pyenv/versions/3.11.5/envs/fourthwall/lib/python3.11/site-packages (from requests->-r requirements.txt (line 1)) (2025.1.31)\n",
      "Collecting anyio<5,>=3.5.0 (from openai->-r requirements.txt (line 2))\n",
      "  Obtaining dependency information for anyio<5,>=3.5.0 from https://files.pythonhosted.org/packages/46/eb/e7f063ad1fec6b3178a3cd82d1a3c4de82cccf283fc42746168188e1cdd5/anyio-4.8.0-py3-none-any.whl.metadata\n",
      "  Using cached anyio-4.8.0-py3-none-any.whl.metadata (4.6 kB)\n",
      "Collecting distro<2,>=1.7.0 (from openai->-r requirements.txt (line 2))\n",
      "  Obtaining dependency information for distro<2,>=1.7.0 from https://files.pythonhosted.org/packages/12/b3/231ffd4ab1fc9d679809f356cebee130ac7daa00d6d6f3206dd4fd137e9e/distro-1.9.0-py3-none-any.whl.metadata\n",
      "  Using cached distro-1.9.0-py3-none-any.whl.metadata (6.8 kB)\n",
      "Collecting httpx<1,>=0.23.0 (from openai->-r requirements.txt (line 2))\n",
      "  Obtaining dependency information for httpx<1,>=0.23.0 from https://files.pythonhosted.org/packages/2a/39/e50c7c3a983047577ee07d2a9e53faf5a69493943ec3f6a384bdc792deb2/httpx-0.28.1-py3-none-any.whl.metadata\n",
      "  Using cached httpx-0.28.1-py3-none-any.whl.metadata (7.1 kB)\n",
      "Collecting jiter<1,>=0.4.0 (from openai->-r requirements.txt (line 2))\n",
      "  Obtaining dependency information for jiter<1,>=0.4.0 from https://files.pythonhosted.org/packages/f5/97/0468bc9eeae43079aaa5feb9267964e496bf13133d469cfdc135498f8dd0/jiter-0.8.2-cp311-cp311-macosx_11_0_arm64.whl.metadata\n",
      "  Using cached jiter-0.8.2-cp311-cp311-macosx_11_0_arm64.whl.metadata (5.2 kB)\n",
      "Collecting pydantic<3,>=1.9.0 (from openai->-r requirements.txt (line 2))\n",
      "  Obtaining dependency information for pydantic<3,>=1.9.0 from https://files.pythonhosted.org/packages/f4/3c/8cc1cc84deffa6e25d2d0c688ebb80635dfdbf1dbea3e30c541c8cf4d860/pydantic-2.10.6-py3-none-any.whl.metadata\n",
      "  Downloading pydantic-2.10.6-py3-none-any.whl.metadata (30 kB)\n",
      "Collecting sniffio (from openai->-r requirements.txt (line 2))\n",
      "  Obtaining dependency information for sniffio from https://files.pythonhosted.org/packages/e9/44/75a9c9421471a6c4805dbf2356f7c181a29c1879239abab1ea2cc8f38b40/sniffio-1.3.1-py3-none-any.whl.metadata\n",
      "  Using cached sniffio-1.3.1-py3-none-any.whl.metadata (3.9 kB)\n",
      "Collecting tqdm>4 (from openai->-r requirements.txt (line 2))\n",
      "  Obtaining dependency information for tqdm>4 from https://files.pythonhosted.org/packages/d0/30/dc54f88dd4a2b5dc8a0279bdd7270e735851848b762aeb1c1184ed1f6b14/tqdm-4.67.1-py3-none-any.whl.metadata\n",
      "  Using cached tqdm-4.67.1-py3-none-any.whl.metadata (57 kB)\n",
      "Requirement already satisfied: typing-extensions<5,>=4.11 in /Users/bigo/.pyenv/versions/3.11.5/envs/fourthwall/lib/python3.11/site-packages (from openai->-r requirements.txt (line 2)) (4.12.2)\n",
      "Collecting httpcore==1.* (from httpx<1,>=0.23.0->openai->-r requirements.txt (line 2))\n",
      "  Obtaining dependency information for httpcore==1.* from https://files.pythonhosted.org/packages/87/f5/72347bc88306acb359581ac4d52f23c0ef445b57157adedb9aee0cd689d2/httpcore-1.0.7-py3-none-any.whl.metadata\n",
      "  Using cached httpcore-1.0.7-py3-none-any.whl.metadata (21 kB)\n",
      "Collecting h11<0.15,>=0.13 (from httpcore==1.*->httpx<1,>=0.23.0->openai->-r requirements.txt (line 2))\n",
      "  Obtaining dependency information for h11<0.15,>=0.13 from https://files.pythonhosted.org/packages/95/04/ff642e65ad6b90db43e668d70ffb6736436c7ce41fcc549f4e9472234127/h11-0.14.0-py3-none-any.whl.metadata\n",
      "  Using cached h11-0.14.0-py3-none-any.whl.metadata (8.2 kB)\n",
      "Collecting annotated-types>=0.6.0 (from pydantic<3,>=1.9.0->openai->-r requirements.txt (line 2))\n",
      "  Obtaining dependency information for annotated-types>=0.6.0 from https://files.pythonhosted.org/packages/78/b6/6307fbef88d9b5ee7421e68d78a9f162e0da4900bc5f5793f6d3d0e34fb8/annotated_types-0.7.0-py3-none-any.whl.metadata\n",
      "  Using cached annotated_types-0.7.0-py3-none-any.whl.metadata (15 kB)\n",
      "Collecting pydantic-core==2.27.2 (from pydantic<3,>=1.9.0->openai->-r requirements.txt (line 2))\n",
      "  Obtaining dependency information for pydantic-core==2.27.2 from https://files.pythonhosted.org/packages/9e/e3/71fe85af2021f3f386da42d291412e5baf6ce7716bd7101ea49c810eda90/pydantic_core-2.27.2-cp311-cp311-macosx_11_0_arm64.whl.metadata\n",
      "  Using cached pydantic_core-2.27.2-cp311-cp311-macosx_11_0_arm64.whl.metadata (6.6 kB)\n",
      "Downloading openai-1.63.2-py3-none-any.whl (472 kB)\n",
      "\u001b[2K   \u001b[38;2;114;156;31m━━━━━━━━━━━━━━━━━━━━━━━━━━━━━━━━━━━━━━━━\u001b[0m \u001b[32m472.3/472.3 kB\u001b[0m \u001b[31m17.0 MB/s\u001b[0m eta \u001b[36m0:00:00\u001b[0m\n",
      "\u001b[?25hUsing cached python_dotenv-1.0.1-py3-none-any.whl (19 kB)\n",
      "Using cached anyio-4.8.0-py3-none-any.whl (96 kB)\n",
      "Using cached distro-1.9.0-py3-none-any.whl (20 kB)\n",
      "Using cached httpx-0.28.1-py3-none-any.whl (73 kB)\n",
      "Using cached httpcore-1.0.7-py3-none-any.whl (78 kB)\n",
      "Using cached jiter-0.8.2-cp311-cp311-macosx_11_0_arm64.whl (311 kB)\n",
      "Downloading pydantic-2.10.6-py3-none-any.whl (431 kB)\n",
      "\u001b[2K   \u001b[38;2;114;156;31m━━━━━━━━━━━━━━━━━━━━━━━━━━━━━━━━━━━━━━━━\u001b[0m \u001b[32m431.7/431.7 kB\u001b[0m \u001b[31m22.7 MB/s\u001b[0m eta \u001b[36m0:00:00\u001b[0m\n",
      "\u001b[?25hUsing cached pydantic_core-2.27.2-cp311-cp311-macosx_11_0_arm64.whl (1.8 MB)\n",
      "Using cached sniffio-1.3.1-py3-none-any.whl (10 kB)\n",
      "Using cached tqdm-4.67.1-py3-none-any.whl (78 kB)\n",
      "Using cached annotated_types-0.7.0-py3-none-any.whl (13 kB)\n",
      "Using cached h11-0.14.0-py3-none-any.whl (58 kB)\n",
      "Installing collected packages: tqdm, sniffio, python-dotenv, pydantic-core, jiter, h11, distro, annotated-types, pydantic, httpcore, anyio, httpx, openai\n",
      "Successfully installed annotated-types-0.7.0 anyio-4.8.0 distro-1.9.0 h11-0.14.0 httpcore-1.0.7 httpx-0.28.1 jiter-0.8.2 openai-1.63.2 pydantic-2.10.6 pydantic-core-2.27.2 python-dotenv-1.0.1 sniffio-1.3.1 tqdm-4.67.1\n",
      "\n",
      "\u001b[1m[\u001b[0m\u001b[34;49mnotice\u001b[0m\u001b[1;39;49m]\u001b[0m\u001b[39;49m A new release of pip is available: \u001b[0m\u001b[31;49m23.2.1\u001b[0m\u001b[39;49m -> \u001b[0m\u001b[32;49m25.0.1\u001b[0m\n",
      "\u001b[1m[\u001b[0m\u001b[34;49mnotice\u001b[0m\u001b[1;39;49m]\u001b[0m\u001b[39;49m To update, run: \u001b[0m\u001b[32;49mpip install --upgrade pip\u001b[0m\n",
      "Note: you may need to restart the kernel to use updated packages.\n"
     ]
    }
   ],
   "source": [
    "%pip install -r requirements.txt"
   ]
  },
  {
   "cell_type": "code",
   "execution_count": 12,
   "metadata": {},
   "outputs": [],
   "source": [
    "import requests\n",
    "import os\n",
    "from openai import OpenAI\n",
    "from dotenv import load_dotenv"
   ]
  },
  {
   "cell_type": "code",
   "execution_count": null,
   "metadata": {},
   "outputs": [],
   "source": [
    "load_dotenv()\n",
    "api_key = os.getenv(\"OPENAI_API_KEY\")\n",
    "client = OpenAI(\n",
    "    api_key=api_key\n",
    ")"
   ]
  },
  {
   "cell_type": "markdown",
   "metadata": {},
   "source": [
    "# Gather Story Summary"
   ]
  },
  {
   "cell_type": "markdown",
   "metadata": {},
   "source": [
    "## Wikipedia"
   ]
  },
  {
   "cell_type": "code",
   "execution_count": 5,
   "metadata": {},
   "outputs": [],
   "source": [
    "def get_wikipedia_summary(title):\n",
    "    \"\"\"\n",
    "    Fetches the first extract of a Wikipedia article using the public MediaWiki API.\n",
    "    Returns a text summary or an empty string if not found.\n",
    "    \"\"\"\n",
    "    base_url = \"https://en.wikipedia.org/w/api.php\"\n",
    "    params = {\n",
    "        \"action\": \"query\",\n",
    "        \"prop\": \"extracts\",\n",
    "        \"explaintext\": True,\n",
    "        \"format\": \"json\",\n",
    "        \"titles\": title\n",
    "    }\n",
    "    try:\n",
    "        response = requests.get(base_url, params=params, timeout=10)\n",
    "        response.raise_for_status()\n",
    "        data = response.json()\n",
    "        pages = data.get(\"query\", {}).get(\"pages\", {})\n",
    "        for page_id, page_content in pages.items():\n",
    "            if \"extract\" in page_content:\n",
    "                # This is a raw textual extract from Wikipedia\n",
    "                return page_content[\"extract\"]\n",
    "    except requests.RequestException as e:\n",
    "        print(f\"[Wikipedia] Error fetching summary: {e}\")\n",
    "\n",
    "    return \"\""
   ]
  },
  {
   "cell_type": "code",
   "execution_count": 8,
   "metadata": {},
   "outputs": [
    {
     "name": "stdout",
     "output_type": "stream",
     "text": [
      "The Windup Girl is a biopunk science fiction novel by American writer Paolo Bacigalupi. It was his debut novel and was published by Night Shade Books on September 1, 2009. The novel is set in a future Thailand and covers a number of contemporary issues such as global warming and biotechnology.\n",
      "The Windup Girl was named as the ninth best fiction book of 2009 by Time magazine. It won the 2010 Nebula Award and the 2010 Hugo Award (tied with The City & the City by China Miéville), both for best novel. The book also won the 2010 Campbell Memorial Award, the 2010 Compton Crook Award and the 2010 Locus Award for best first novel.\n",
      "\n",
      "\n",
      "== Setting ==\n",
      "The Windup Girl is set in 23rd-century Thailand. Global warming has raised the levels of world's oceans, carbon fuel sources have become depleted, and manually wound springs are used as energy storage devices. Biotechnology is dominant and megacorporations (called calorie companies) like AgriGen, PurCal and RedStar control food production through \"genehacked\" seeds, and use bioterrorism, private armies and economic hitmen to create markets for their products. Frequent catastrophes, such as deadly and widespread plagues and illness, caused by genetically modified crops and mutant pests, ravage entire populations. The natural genetic seed stock of the world's plants has been almost completely supplanted by those that are genetically engineered to be sterile, forcing farmers to buy new seeds from the calorie companies every season.\n",
      "Thailand is an exception. It maintains its own reserve of genetically viable seeds, fights off engineered plagues and other bioterrorism, and keeps its borders firmly closed against the calorie companies and other foreign biological imports.  The capital city of Bangkok is below sea level and is protected from flooding by levees and pumps. The current monarch of Thailand is a child queen who is essentially a figurehead; the three most powerful people in Thailand are the Somdet Chaopraya (regent for the child queen), General Pracha (head of the Environment Ministry), and Minister Akkarat (head of the Trade Ministry). Pracha and Akkarat are longtime enemies, and represent the protectionist/independent/isolationist and internationalist/accommodationalist factions in the government, respectively.\n",
      "\n",
      "\n",
      "== Plot summary ==\n",
      "Anderson Lake is an economic hitman for the AgriGen Corporation, working in Thailand. He owns a factory trying to mass-produce a revolutionary new model of kink-spring (the successor, in the absence of oil or petroleum, to the internal combustion engine) that will store gigajoules of energy. However, the factory is a cover for his real mission: discovering the location of the Thai seedbank, with which Thailand has so far managed to resist the calorie companies' attempts at agro-economic subjugation. He has  heavily delegated the running of the factory to his manager, Hock Seng, a refugee from the Malaysian purge of the ethnic Chinese. Hock Seng was a successful businessman in his former life and longs for a return to his former status. To this end, he plots to steal the kink-spring designs kept in Anderson's safe.\n",
      "When Anderson visits a sex club, he meets Emiko, a \"windup girl\" - a genetically modified human created as a servant and companion. Windups are illegal in Thailand; Emiko was brought to Bangkok and abandoned by her owner, a Japanese delegate on a diplomatic mission.  Emiko lives in fear of being discovered and murdered by the Environment Ministry, and is currently in bonded servitude to Raleigh, the owner of the club. She reveals to Anderson information she has learned about the secret seedbank. In return, he tells her about a refuge in the north of Thailand where people of Emiko's kind (the \"New People\") live together. She becomes determined to escape to this place by paying off Raleigh.\n",
      "Meanwhile, the Environment Ministry' enforcement wing, known as the White Shirts, intercepts and destroys a valuable shipment of contraband. Anderson and others in the foreign trading community demand that Jaidee Rojjanasukchai, the zealous and honest captain of the White Shirts, be punished; to force Jaidee's compliance with these measures, Akkarat has Jaidee's wife kidnapped. Jaidee initially submits and is sentenced to nine years in a monastery. However, he soon realizes that he will never see his wife again, and she has likely been murdered. He escapes, but is caught and killed when he attempts to assassinate Akkarat. The other White Shirts declare him a martyr and rise up against the Trade Ministry.\n",
      "At the same time, Hock Seng learns that factory workers are falling victim to a new plague originating from the kink-spring factory and has the bodies disposed of surreptitiously. As the White Shirts take control of Bangkok, he escapes from the factory into hiding. Anderson discovers Hock Seng's flight and does the same.\n",
      "Jaidee's replacement and former protégé, Kanya, discovers the new plague and sets about trying to contain it while dealing with guilt of being Akkarat's mole and betraying Jaidee.  She reluctantly seeks help from Gibbons, the scientist at the heart of the Thai seedbank, who is revealed to be a renegade AgriGen scientist. He identifies the new plague and gives Kanya clues that lead her to Anderson's factory.\n",
      "Anderson meets with Akkarat and the Somdet Chaopraya. Anderson offers to supply a new strain of GM rice and a private army from AgriGen to repel the White Shirts in exchange for access to the seedbank and lowering of the trade barriers. Knowing of the Somdet Chaopraya's addiction to sexual novelty, he takes him to Emiko's club. When the Somdet Chaopraya and his entourage later sexually humiliate and degrade her, Emiko snaps and kills them. She escapes and seeks refuge with Anderson. Akkarat accuses General Pracha of orchestrating the Somdet Chaopraya's assassination, and the capital is plunged into civil war.\n",
      "Having failed to steal the kink-spring designs, Hock Seng tries to capture Emiko for ransom. However, Anderson makes a deal with him: Hock Seng will be patronized by AgriGen and Emiko will remain with Anderson.\n",
      "In short order, Pracha and most of the top Environment Ministry men are killed. Akkarat, now all-powerful, appoints his spy Kanya as the new chief of the Environment Ministry. He also opens up Thailand to the calorie companies, and grants Anderson and AgriGen access to the seedbank.\n",
      "Kanya accompanies the \"calorie men\" to the seedbank, where she reneges and executes the AgriGen team. She then directs the seedbank's monks to move the seeds to a pre-arranged secure location. With the hidden military arsenal in the seedbank, she orchestrates the destruction of the levees around Bangkok, flooding it.\n",
      "Bangkok's people and the capital relocate to the site of Ayutthaya. Akkarat is stripped of his powers and sentenced to servitude as a monk. Anderson dies of the plague originating from his own factory while he is in hiding with Emiko. Emiko is found by Gibbons, who promises that he will use Emiko's DNA to engineer a new race of fertile New People, thus fulfilling her dream of living with her own kind.\n",
      "\n",
      "\n",
      "== Awards and honors ==\n",
      "In September 2010, the novel won the 2010 Hugo Award for Best Novel category, tying with China Miéville's The City & the City.  In May 2010, the novel won the Nebula Award for Best Novel. In 2010, the novel won the John W. Campbell Memorial Award for Best Science Fiction Novel. In 2012 a translated version of the novel by Kazue Tanaka and Hiroshi Kaneko won a Seiun Award for \"Best Translated Long Fiction\" at the 51st Japan Science Fiction Convention. The German translation Biokrieg won the Kurd-Laßwitz-Preis in 2012. The French translation La Fille Automate won the Planète SF Award in 2012.\n",
      "\n",
      "\n",
      "== Reception ==\n",
      "Adam Roberts, reviewing the book for The Guardian, concludes \"when it hits its sweet-spot, The Windup Girl embodies what SF does best of all: it remakes reality in compelling, absorbing and thought-provoking ways, and it lives on vividly in the mind.\" The Guardian later listed it as one of the five best climate change novels.\n",
      "In SF Signal, Jason Sanford praised the novel as \"expertly crafted with beautiful writing, sympathetic characters, and a fast-paced plot\", and commended Bacigalupi for \"combin(ing) a perfect ear for language with wonderful ideas and world-building\", noting that the \"moments of horrific violence\" are \"never gratuitous\" but instead are \"integral to the novel's plot\".\n",
      "In Strange Horizons, Niall Harrison stated that the novel was \"irresistibly readable for long stretches\", due to \"the frantic excitement of uncertainty\", but described its plot as \"slightly creaky\". Harrison also compared Bacigalupi's \"exploration of the submissiveness that shapes Emiko's responses in so many situations\" to Richard K. Morgan's depiction of an equivalent situation in the 2007 novel Black Man, observing that the transition between Emiko's compelled behaviors and her independent actions is \"unconvincing\", with the result that she \"feel[s] like a short story character, rather than a novel character: an argument rather than a person.\" Ultimately, Harrison felt that although the novel \"is quite rigorously engaged with the legacies of colonialism and neo-colonialism, [it] is written by someone who benefits from those legacies.\"\n",
      "In a long-form essay in The New York Review of Science Fiction, Eric Schaller analyzed Bacigalupi's use of science, saying that the novel resembles \"pulp science fiction of a half-century ago, employing pseudoscientific MacGuffins to advance its plot and scientific vernacular as a suggestive but inaccurate veneer that does not withstand close inspection\", and judging that although the novel \"has much to recommend it\", readers need not have \"much of a background in science to recognize the fallacies inherent in many of the novel’s faulty scientific explanations,\" which on several occasions made him \"want() to hurl the book across the room because (...) its scientific fumbles [were] so aggravating.\" Schaller particularly faulted the existence of \"cheshires\" (a species of cat genetically engineered to be camouflaged so perfectly they are invisible, and which has replaced normal cats worldwide within twenty years of a small number of specimens escaping into the wild), which he held as an example of the novel's lack of \"scientific coherence\", such that \"complex genetic feats are perceived as relatively simple to engineer (while) relatively simple genetic feats are ignored or assumed too difficult to consider.\"\n",
      "Thai author Benjanun Sriduangkaew castigated Bacigalupi's portrayal of Thai culture, which she described as \"exotifying, yellow-fever, offensive claptrap\"; as well, Sriduangkaew noted that the book's acknowledgments did not mention the \"names of [any] real, living Thai people the author's talked to while researching for this book\".\n",
      "In a 2011 interview, Bacigalupi said that the process of writing The Windup Girl was \"really kind of painful and traumatic\", and that the book's positive reception is \"confusing\" to him, emphasizing that \"(w)ith Windup Girl, I felt ashamed all the time. I felt ashamed while I was writing it, I felt ashamed that I had written it, I felt ashamed that I was inflicting it on other people, and now I feel ashamed when people criticize it.\"\n",
      "\n",
      "\n",
      "== See also ==\n",
      "Climate fiction\n",
      "Climate change in Thailand\n",
      "\n",
      "\n",
      "== Footnotes ==\n",
      "\n",
      "\n",
      "== External links ==\n",
      "The Windup Girl title listing at the Internet Speculative Fiction Database\n",
      "The Windup Girl at io9.com\n"
     ]
    }
   ],
   "source": [
    "# testing with my fav solarpunk novel\n",
    "book = \"The Windup Girl\"\n",
    "summary = get_wikipedia_summary(book)\n",
    "print(summary)"
   ]
  },
  {
   "cell_type": "markdown",
   "metadata": {},
   "source": [
    "# Pass Book Summary thru the First Agent"
   ]
  },
  {
   "cell_type": "code",
   "execution_count": null,
   "metadata": {},
   "outputs": [],
   "source": [
    "def query_openai(system_prompt, user_prompt):\n",
    "    \"\"\"Send a prompt to OpenAI and return the response.\"\"\"\n",
    "    \n",
    "    completion = client.chat.completions.create(\n",
    "        model=\"gpt-4o\",\n",
    "        messages=[\n",
    "            {\"role\": \"system\", \"content\": system_prompt},\n",
    "            {\"role\": \"user\", \"content\": user_prompt}\n",
    "        ]\n",
    "    )\n",
    "    \n",
    "    return completion.choices[0].message.content"
   ]
  },
  {
   "cell_type": "code",
   "execution_count": null,
   "metadata": {},
   "outputs": [],
   "source": [
    "# Load the system prompt from system_prompts/story_analysis_prompt.md\n",
    "with open(\"system_prompts/story_analysis_prompt.md\", \"r\") as file:\n",
    "    system_prompt = file.read()\n",
    "\n",
    "# Generate a response using the OpenAI API\n",
    "\n"
   ]
  }
 ],
 "metadata": {
  "kernelspec": {
   "display_name": "fourthwall",
   "language": "python",
   "name": "python3"
  },
  "language_info": {
   "codemirror_mode": {
    "name": "ipython",
    "version": 3
   },
   "file_extension": ".py",
   "mimetype": "text/x-python",
   "name": "python",
   "nbconvert_exporter": "python",
   "pygments_lexer": "ipython3",
   "version": "3.11.5"
  }
 },
 "nbformat": 4,
 "nbformat_minor": 2
}
