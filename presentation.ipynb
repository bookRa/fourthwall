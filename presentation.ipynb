{
 "cells": [
  {
   "cell_type": "markdown",
   "metadata": {},
   "source": [
    "# Setup"
   ]
  },
  {
   "cell_type": "code",
   "execution_count": null,
   "metadata": {},
   "outputs": [
    {
     "name": "stderr",
     "output_type": "stream",
     "text": [
      "WARNING: All log messages before absl::InitializeLog() is called are written to STDERR\n",
      "I0000 00:00:1740269245.243385 2390576 fork_posix.cc:75] Other threads are currently calling into gRPC, skipping fork() handlers\n"
     ]
    },
    {
     "name": "stdout",
     "output_type": "stream",
     "text": [
      "Requirement already satisfied: requests in /Users/bigo/.pyenv/versions/3.11.5/envs/fourthwall/lib/python3.11/site-packages (from -r requirements.txt (line 1)) (2.32.3)\n",
      "Requirement already satisfied: openai in /Users/bigo/.pyenv/versions/3.11.5/envs/fourthwall/lib/python3.11/site-packages (from -r requirements.txt (line 2)) (1.63.2)\n",
      "Requirement already satisfied: python-dotenv in /Users/bigo/.pyenv/versions/3.11.5/envs/fourthwall/lib/python3.11/site-packages (from -r requirements.txt (line 3)) (1.0.1)\n",
      "Requirement already satisfied: lumaai in /Users/bigo/.pyenv/versions/3.11.5/envs/fourthwall/lib/python3.11/site-packages (from -r requirements.txt (line 4)) (1.5.0)\n",
      "Requirement already satisfied: pyht in /Users/bigo/.pyenv/versions/3.11.5/envs/fourthwall/lib/python3.11/site-packages (from -r requirements.txt (line 5)) (0.1.12)\n",
      "Requirement already satisfied: openinference-instrumentation-openai in /Users/bigo/.pyenv/versions/3.11.5/envs/fourthwall/lib/python3.11/site-packages (from -r requirements.txt (line 6)) (0.1.21)\n",
      "Requirement already satisfied: arize-phoenix-otel in /Users/bigo/.pyenv/versions/3.11.5/envs/fourthwall/lib/python3.11/site-packages (from -r requirements.txt (line 7)) (0.8.0)\n",
      "Requirement already satisfied: arize-phoenix in /Users/bigo/.pyenv/versions/3.11.5/envs/fourthwall/lib/python3.11/site-packages (from -r requirements.txt (line 8)) (8.2.1)\n",
      "Requirement already satisfied: charset-normalizer<4,>=2 in /Users/bigo/.pyenv/versions/3.11.5/envs/fourthwall/lib/python3.11/site-packages (from requests->-r requirements.txt (line 1)) (3.4.1)\n",
      "Requirement already satisfied: idna<4,>=2.5 in /Users/bigo/.pyenv/versions/3.11.5/envs/fourthwall/lib/python3.11/site-packages (from requests->-r requirements.txt (line 1)) (3.10)\n",
      "Requirement already satisfied: urllib3<3,>=1.21.1 in /Users/bigo/.pyenv/versions/3.11.5/envs/fourthwall/lib/python3.11/site-packages (from requests->-r requirements.txt (line 1)) (2.3.0)\n",
      "Requirement already satisfied: certifi>=2017.4.17 in /Users/bigo/.pyenv/versions/3.11.5/envs/fourthwall/lib/python3.11/site-packages (from requests->-r requirements.txt (line 1)) (2025.1.31)\n",
      "Requirement already satisfied: anyio<5,>=3.5.0 in /Users/bigo/.pyenv/versions/3.11.5/envs/fourthwall/lib/python3.11/site-packages (from openai->-r requirements.txt (line 2)) (4.8.0)\n",
      "Requirement already satisfied: distro<2,>=1.7.0 in /Users/bigo/.pyenv/versions/3.11.5/envs/fourthwall/lib/python3.11/site-packages (from openai->-r requirements.txt (line 2)) (1.9.0)\n",
      "Requirement already satisfied: httpx<1,>=0.23.0 in /Users/bigo/.pyenv/versions/3.11.5/envs/fourthwall/lib/python3.11/site-packages (from openai->-r requirements.txt (line 2)) (0.28.1)\n",
      "Requirement already satisfied: jiter<1,>=0.4.0 in /Users/bigo/.pyenv/versions/3.11.5/envs/fourthwall/lib/python3.11/site-packages (from openai->-r requirements.txt (line 2)) (0.8.2)\n",
      "Requirement already satisfied: pydantic<3,>=1.9.0 in /Users/bigo/.pyenv/versions/3.11.5/envs/fourthwall/lib/python3.11/site-packages (from openai->-r requirements.txt (line 2)) (2.10.6)\n",
      "Requirement already satisfied: sniffio in /Users/bigo/.pyenv/versions/3.11.5/envs/fourthwall/lib/python3.11/site-packages (from openai->-r requirements.txt (line 2)) (1.3.1)\n",
      "Requirement already satisfied: tqdm>4 in /Users/bigo/.pyenv/versions/3.11.5/envs/fourthwall/lib/python3.11/site-packages (from openai->-r requirements.txt (line 2)) (4.67.1)\n",
      "Requirement already satisfied: typing-extensions<5,>=4.11 in /Users/bigo/.pyenv/versions/3.11.5/envs/fourthwall/lib/python3.11/site-packages (from openai->-r requirements.txt (line 2)) (4.12.2)\n",
      "Requirement already satisfied: aiohttp<4.0.0,>=3.10.11 in /Users/bigo/.pyenv/versions/3.11.5/envs/fourthwall/lib/python3.11/site-packages (from pyht->-r requirements.txt (line 5)) (3.11.12)\n",
      "Requirement already satisfied: filelock<4.0.0,>=3.12.4 in /Users/bigo/.pyenv/versions/3.11.5/envs/fourthwall/lib/python3.11/site-packages (from pyht->-r requirements.txt (line 5)) (3.17.0)\n",
      "Requirement already satisfied: grpcio<2.0.0,>=1.70.0 in /Users/bigo/.pyenv/versions/3.11.5/envs/fourthwall/lib/python3.11/site-packages (from pyht->-r requirements.txt (line 5)) (1.70.0)\n",
      "Requirement already satisfied: protobuf<6.0.0,>=5.29.3 in /Users/bigo/.pyenv/versions/3.11.5/envs/fourthwall/lib/python3.11/site-packages (from pyht->-r requirements.txt (line 5)) (5.29.3)\n",
      "Requirement already satisfied: websockets<14.0,>=13.1 in /Users/bigo/.pyenv/versions/3.11.5/envs/fourthwall/lib/python3.11/site-packages (from pyht->-r requirements.txt (line 5)) (13.1)\n",
      "Requirement already satisfied: openinference-instrumentation>=0.1.18 in /Users/bigo/.pyenv/versions/3.11.5/envs/fourthwall/lib/python3.11/site-packages (from openinference-instrumentation-openai->-r requirements.txt (line 6)) (0.1.22)\n",
      "Requirement already satisfied: openinference-semantic-conventions>=0.1.12 in /Users/bigo/.pyenv/versions/3.11.5/envs/fourthwall/lib/python3.11/site-packages (from openinference-instrumentation-openai->-r requirements.txt (line 6)) (0.1.14)\n",
      "Requirement already satisfied: opentelemetry-api in /Users/bigo/.pyenv/versions/3.11.5/envs/fourthwall/lib/python3.11/site-packages (from openinference-instrumentation-openai->-r requirements.txt (line 6)) (1.30.0)\n",
      "Requirement already satisfied: opentelemetry-instrumentation in /Users/bigo/.pyenv/versions/3.11.5/envs/fourthwall/lib/python3.11/site-packages (from openinference-instrumentation-openai->-r requirements.txt (line 6)) (0.51b0)\n",
      "Requirement already satisfied: opentelemetry-semantic-conventions in /Users/bigo/.pyenv/versions/3.11.5/envs/fourthwall/lib/python3.11/site-packages (from openinference-instrumentation-openai->-r requirements.txt (line 6)) (0.51b0)\n",
      "Requirement already satisfied: wrapt in /Users/bigo/.pyenv/versions/3.11.5/envs/fourthwall/lib/python3.11/site-packages (from openinference-instrumentation-openai->-r requirements.txt (line 6)) (1.17.2)\n",
      "Requirement already satisfied: opentelemetry-exporter-otlp in /Users/bigo/.pyenv/versions/3.11.5/envs/fourthwall/lib/python3.11/site-packages (from arize-phoenix-otel->-r requirements.txt (line 7)) (1.30.0)\n",
      "Requirement already satisfied: opentelemetry-proto>=1.12.0 in /Users/bigo/.pyenv/versions/3.11.5/envs/fourthwall/lib/python3.11/site-packages (from arize-phoenix-otel->-r requirements.txt (line 7)) (1.30.0)\n",
      "Requirement already satisfied: opentelemetry-sdk in /Users/bigo/.pyenv/versions/3.11.5/envs/fourthwall/lib/python3.11/site-packages (from arize-phoenix-otel->-r requirements.txt (line 7)) (1.30.0)\n",
      "Requirement already satisfied: aioitertools in /Users/bigo/.pyenv/versions/3.11.5/envs/fourthwall/lib/python3.11/site-packages (from arize-phoenix->-r requirements.txt (line 8)) (0.12.0)\n",
      "Requirement already satisfied: aiosqlite in /Users/bigo/.pyenv/versions/3.11.5/envs/fourthwall/lib/python3.11/site-packages (from arize-phoenix->-r requirements.txt (line 8)) (0.21.0)\n",
      "Requirement already satisfied: alembic<2,>=1.3.0 in /Users/bigo/.pyenv/versions/3.11.5/envs/fourthwall/lib/python3.11/site-packages (from arize-phoenix->-r requirements.txt (line 8)) (1.14.1)\n",
      "Requirement already satisfied: arize-phoenix-client in /Users/bigo/.pyenv/versions/3.11.5/envs/fourthwall/lib/python3.11/site-packages (from arize-phoenix->-r requirements.txt (line 8)) (1.0.1)\n",
      "Requirement already satisfied: arize-phoenix-evals>=0.13.1 in /Users/bigo/.pyenv/versions/3.11.5/envs/fourthwall/lib/python3.11/site-packages (from arize-phoenix->-r requirements.txt (line 8)) (0.20.3)\n",
      "Requirement already satisfied: authlib in /Users/bigo/.pyenv/versions/3.11.5/envs/fourthwall/lib/python3.11/site-packages (from arize-phoenix->-r requirements.txt (line 8)) (1.4.1)\n",
      "Requirement already satisfied: cachetools in /Users/bigo/.pyenv/versions/3.11.5/envs/fourthwall/lib/python3.11/site-packages (from arize-phoenix->-r requirements.txt (line 8)) (5.5.2)\n",
      "Requirement already satisfied: fastapi in /Users/bigo/.pyenv/versions/3.11.5/envs/fourthwall/lib/python3.11/site-packages (from arize-phoenix->-r requirements.txt (line 8)) (0.115.8)\n",
      "Requirement already satisfied: grpc-interceptor in /Users/bigo/.pyenv/versions/3.11.5/envs/fourthwall/lib/python3.11/site-packages (from arize-phoenix->-r requirements.txt (line 8)) (0.15.4)\n",
      "Requirement already satisfied: jinja2 in /Users/bigo/.pyenv/versions/3.11.5/envs/fourthwall/lib/python3.11/site-packages (from arize-phoenix->-r requirements.txt (line 8)) (3.1.5)\n",
      "Requirement already satisfied: numpy!=2.0.0 in /Users/bigo/.pyenv/versions/3.11.5/envs/fourthwall/lib/python3.11/site-packages (from arize-phoenix->-r requirements.txt (line 8)) (2.2.3)\n",
      "Requirement already satisfied: pandas>=1.0 in /Users/bigo/.pyenv/versions/3.11.5/envs/fourthwall/lib/python3.11/site-packages (from arize-phoenix->-r requirements.txt (line 8)) (2.2.3)\n",
      "Requirement already satisfied: psutil in /Users/bigo/.pyenv/versions/3.11.5/envs/fourthwall/lib/python3.11/site-packages (from arize-phoenix->-r requirements.txt (line 8)) (7.0.0)\n",
      "Requirement already satisfied: pyarrow in /Users/bigo/.pyenv/versions/3.11.5/envs/fourthwall/lib/python3.11/site-packages (from arize-phoenix->-r requirements.txt (line 8)) (19.0.1)\n",
      "Requirement already satisfied: python-multipart in /Users/bigo/.pyenv/versions/3.11.5/envs/fourthwall/lib/python3.11/site-packages (from arize-phoenix->-r requirements.txt (line 8)) (0.0.20)\n",
      "Requirement already satisfied: scikit-learn in /Users/bigo/.pyenv/versions/3.11.5/envs/fourthwall/lib/python3.11/site-packages (from arize-phoenix->-r requirements.txt (line 8)) (1.6.1)\n",
      "Requirement already satisfied: scipy in /Users/bigo/.pyenv/versions/3.11.5/envs/fourthwall/lib/python3.11/site-packages (from arize-phoenix->-r requirements.txt (line 8)) (1.15.2)\n",
      "Requirement already satisfied: sqlalchemy[asyncio]<3,>=2.0.4 in /Users/bigo/.pyenv/versions/3.11.5/envs/fourthwall/lib/python3.11/site-packages (from arize-phoenix->-r requirements.txt (line 8)) (2.0.38)\n",
      "Requirement already satisfied: sqlean-py>=3.45.1 in /Users/bigo/.pyenv/versions/3.11.5/envs/fourthwall/lib/python3.11/site-packages (from arize-phoenix->-r requirements.txt (line 8)) (3.47.0)\n",
      "Requirement already satisfied: starlette in /Users/bigo/.pyenv/versions/3.11.5/envs/fourthwall/lib/python3.11/site-packages (from arize-phoenix->-r requirements.txt (line 8)) (0.45.3)\n",
      "Requirement already satisfied: strawberry-graphql==0.253.1 in /Users/bigo/.pyenv/versions/3.11.5/envs/fourthwall/lib/python3.11/site-packages (from arize-phoenix->-r requirements.txt (line 8)) (0.253.1)\n",
      "Requirement already satisfied: uvicorn in /Users/bigo/.pyenv/versions/3.11.5/envs/fourthwall/lib/python3.11/site-packages (from arize-phoenix->-r requirements.txt (line 8)) (0.34.0)\n",
      "Requirement already satisfied: graphql-core<3.4.0,>=3.2.0 in /Users/bigo/.pyenv/versions/3.11.5/envs/fourthwall/lib/python3.11/site-packages (from strawberry-graphql==0.253.1->arize-phoenix->-r requirements.txt (line 8)) (3.2.6)\n",
      "Requirement already satisfied: python-dateutil<3.0.0,>=2.7.0 in /Users/bigo/.pyenv/versions/3.11.5/envs/fourthwall/lib/python3.11/site-packages (from strawberry-graphql==0.253.1->arize-phoenix->-r requirements.txt (line 8)) (2.9.0.post0)\n",
      "Requirement already satisfied: aiohappyeyeballs>=2.3.0 in /Users/bigo/.pyenv/versions/3.11.5/envs/fourthwall/lib/python3.11/site-packages (from aiohttp<4.0.0,>=3.10.11->pyht->-r requirements.txt (line 5)) (2.4.6)\n",
      "Requirement already satisfied: aiosignal>=1.1.2 in /Users/bigo/.pyenv/versions/3.11.5/envs/fourthwall/lib/python3.11/site-packages (from aiohttp<4.0.0,>=3.10.11->pyht->-r requirements.txt (line 5)) (1.3.2)\n",
      "Requirement already satisfied: attrs>=17.3.0 in /Users/bigo/.pyenv/versions/3.11.5/envs/fourthwall/lib/python3.11/site-packages (from aiohttp<4.0.0,>=3.10.11->pyht->-r requirements.txt (line 5)) (25.1.0)\n",
      "Requirement already satisfied: frozenlist>=1.1.1 in /Users/bigo/.pyenv/versions/3.11.5/envs/fourthwall/lib/python3.11/site-packages (from aiohttp<4.0.0,>=3.10.11->pyht->-r requirements.txt (line 5)) (1.5.0)\n",
      "Requirement already satisfied: multidict<7.0,>=4.5 in /Users/bigo/.pyenv/versions/3.11.5/envs/fourthwall/lib/python3.11/site-packages (from aiohttp<4.0.0,>=3.10.11->pyht->-r requirements.txt (line 5)) (6.1.0)\n",
      "Requirement already satisfied: propcache>=0.2.0 in /Users/bigo/.pyenv/versions/3.11.5/envs/fourthwall/lib/python3.11/site-packages (from aiohttp<4.0.0,>=3.10.11->pyht->-r requirements.txt (line 5)) (0.3.0)\n",
      "Requirement already satisfied: yarl<2.0,>=1.17.0 in /Users/bigo/.pyenv/versions/3.11.5/envs/fourthwall/lib/python3.11/site-packages (from aiohttp<4.0.0,>=3.10.11->pyht->-r requirements.txt (line 5)) (1.18.3)\n",
      "Requirement already satisfied: Mako in /Users/bigo/.pyenv/versions/3.11.5/envs/fourthwall/lib/python3.11/site-packages (from alembic<2,>=1.3.0->arize-phoenix->-r requirements.txt (line 8)) (1.3.9)\n",
      "Requirement already satisfied: httpcore==1.* in /Users/bigo/.pyenv/versions/3.11.5/envs/fourthwall/lib/python3.11/site-packages (from httpx<1,>=0.23.0->openai->-r requirements.txt (line 2)) (1.0.7)\n",
      "Requirement already satisfied: h11<0.15,>=0.13 in /Users/bigo/.pyenv/versions/3.11.5/envs/fourthwall/lib/python3.11/site-packages (from httpcore==1.*->httpx<1,>=0.23.0->openai->-r requirements.txt (line 2)) (0.14.0)\n",
      "Requirement already satisfied: pytz>=2020.1 in /Users/bigo/.pyenv/versions/3.11.5/envs/fourthwall/lib/python3.11/site-packages (from pandas>=1.0->arize-phoenix->-r requirements.txt (line 8)) (2025.1)\n",
      "Requirement already satisfied: tzdata>=2022.7 in /Users/bigo/.pyenv/versions/3.11.5/envs/fourthwall/lib/python3.11/site-packages (from pandas>=1.0->arize-phoenix->-r requirements.txt (line 8)) (2025.1)\n",
      "Requirement already satisfied: annotated-types>=0.6.0 in /Users/bigo/.pyenv/versions/3.11.5/envs/fourthwall/lib/python3.11/site-packages (from pydantic<3,>=1.9.0->openai->-r requirements.txt (line 2)) (0.7.0)\n",
      "Requirement already satisfied: pydantic-core==2.27.2 in /Users/bigo/.pyenv/versions/3.11.5/envs/fourthwall/lib/python3.11/site-packages (from pydantic<3,>=1.9.0->openai->-r requirements.txt (line 2)) (2.27.2)\n",
      "Requirement already satisfied: greenlet!=0.4.17 in /Users/bigo/.pyenv/versions/3.11.5/envs/fourthwall/lib/python3.11/site-packages (from sqlalchemy[asyncio]<3,>=2.0.4->arize-phoenix->-r requirements.txt (line 8)) (3.1.1)\n",
      "Requirement already satisfied: cryptography in /Users/bigo/.pyenv/versions/3.11.5/envs/fourthwall/lib/python3.11/site-packages (from authlib->arize-phoenix->-r requirements.txt (line 8)) (44.0.1)\n",
      "Requirement already satisfied: MarkupSafe>=2.0 in /Users/bigo/.pyenv/versions/3.11.5/envs/fourthwall/lib/python3.11/site-packages (from jinja2->arize-phoenix->-r requirements.txt (line 8)) (3.0.2)\n",
      "Requirement already satisfied: deprecated>=1.2.6 in /Users/bigo/.pyenv/versions/3.11.5/envs/fourthwall/lib/python3.11/site-packages (from opentelemetry-api->openinference-instrumentation-openai->-r requirements.txt (line 6)) (1.2.18)\n",
      "Requirement already satisfied: importlib-metadata<=8.5.0,>=6.0 in /Users/bigo/.pyenv/versions/3.11.5/envs/fourthwall/lib/python3.11/site-packages (from opentelemetry-api->openinference-instrumentation-openai->-r requirements.txt (line 6)) (8.5.0)\n",
      "Requirement already satisfied: opentelemetry-exporter-otlp-proto-grpc==1.30.0 in /Users/bigo/.pyenv/versions/3.11.5/envs/fourthwall/lib/python3.11/site-packages (from opentelemetry-exporter-otlp->arize-phoenix-otel->-r requirements.txt (line 7)) (1.30.0)\n",
      "Requirement already satisfied: opentelemetry-exporter-otlp-proto-http==1.30.0 in /Users/bigo/.pyenv/versions/3.11.5/envs/fourthwall/lib/python3.11/site-packages (from opentelemetry-exporter-otlp->arize-phoenix-otel->-r requirements.txt (line 7)) (1.30.0)\n",
      "Requirement already satisfied: googleapis-common-protos~=1.52 in /Users/bigo/.pyenv/versions/3.11.5/envs/fourthwall/lib/python3.11/site-packages (from opentelemetry-exporter-otlp-proto-grpc==1.30.0->opentelemetry-exporter-otlp->arize-phoenix-otel->-r requirements.txt (line 7)) (1.68.0)\n",
      "Requirement already satisfied: opentelemetry-exporter-otlp-proto-common==1.30.0 in /Users/bigo/.pyenv/versions/3.11.5/envs/fourthwall/lib/python3.11/site-packages (from opentelemetry-exporter-otlp-proto-grpc==1.30.0->opentelemetry-exporter-otlp->arize-phoenix-otel->-r requirements.txt (line 7)) (1.30.0)\n",
      "Requirement already satisfied: packaging>=18.0 in /Users/bigo/.pyenv/versions/3.11.5/envs/fourthwall/lib/python3.11/site-packages (from opentelemetry-instrumentation->openinference-instrumentation-openai->-r requirements.txt (line 6)) (24.2)\n",
      "Requirement already satisfied: joblib>=1.2.0 in /Users/bigo/.pyenv/versions/3.11.5/envs/fourthwall/lib/python3.11/site-packages (from scikit-learn->arize-phoenix->-r requirements.txt (line 8)) (1.4.2)\n",
      "Requirement already satisfied: threadpoolctl>=3.1.0 in /Users/bigo/.pyenv/versions/3.11.5/envs/fourthwall/lib/python3.11/site-packages (from scikit-learn->arize-phoenix->-r requirements.txt (line 8)) (3.5.0)\n",
      "Requirement already satisfied: click>=7.0 in /Users/bigo/.pyenv/versions/3.11.5/envs/fourthwall/lib/python3.11/site-packages (from uvicorn->arize-phoenix->-r requirements.txt (line 8)) (8.1.8)\n",
      "Requirement already satisfied: zipp>=3.20 in /Users/bigo/.pyenv/versions/3.11.5/envs/fourthwall/lib/python3.11/site-packages (from importlib-metadata<=8.5.0,>=6.0->opentelemetry-api->openinference-instrumentation-openai->-r requirements.txt (line 6)) (3.21.0)\n",
      "Requirement already satisfied: six>=1.5 in /Users/bigo/.pyenv/versions/3.11.5/envs/fourthwall/lib/python3.11/site-packages (from python-dateutil<3.0.0,>=2.7.0->strawberry-graphql==0.253.1->arize-phoenix->-r requirements.txt (line 8)) (1.17.0)\n",
      "Requirement already satisfied: cffi>=1.12 in /Users/bigo/.pyenv/versions/3.11.5/envs/fourthwall/lib/python3.11/site-packages (from cryptography->authlib->arize-phoenix->-r requirements.txt (line 8)) (1.17.1)\n",
      "Requirement already satisfied: pycparser in /Users/bigo/.pyenv/versions/3.11.5/envs/fourthwall/lib/python3.11/site-packages (from cffi>=1.12->cryptography->authlib->arize-phoenix->-r requirements.txt (line 8)) (2.22)\n",
      "\n",
      "\u001b[1m[\u001b[0m\u001b[34;49mnotice\u001b[0m\u001b[1;39;49m]\u001b[0m\u001b[39;49m A new release of pip is available: \u001b[0m\u001b[31;49m23.2.1\u001b[0m\u001b[39;49m -> \u001b[0m\u001b[32;49m25.0.1\u001b[0m\n",
      "\u001b[1m[\u001b[0m\u001b[34;49mnotice\u001b[0m\u001b[1;39;49m]\u001b[0m\u001b[39;49m To update, run: \u001b[0m\u001b[32;49mpip install --upgrade pip\u001b[0m\n",
      "Note: you may need to restart the kernel to use updated packages.\n"
     ]
    }
   ],
   "source": [
    "%pip install -r requirements.txt"
   ]
  },
  {
   "cell_type": "code",
   "execution_count": 32,
   "metadata": {},
   "outputs": [],
   "source": [
    "import requests\n",
    "import os\n",
    "import re\n",
    "import json\n",
    "import time\n",
    "import pyht\n",
    "from openai import OpenAI\n",
    "from dotenv import load_dotenv\n",
    "import phoenix as px\n",
    "from phoenix.otel import register\n",
    "from openinference.instrumentation.openai import OpenAIInstrumentor"
   ]
  },
  {
   "cell_type": "markdown",
   "metadata": {},
   "source": [
    "# INPUT = BOOK TITLE\n",
    "## What's Your Favorite Novel (ideally never been made a movie)?"
   ]
  },
  {
   "cell_type": "code",
   "execution_count": 15,
   "metadata": {},
   "outputs": [],
   "source": [
    "book_title = \"Klara and the Sun\""
   ]
  },
  {
   "cell_type": "code",
   "execution_count": 16,
   "metadata": {},
   "outputs": [
    {
     "name": "stderr",
     "output_type": "stream",
     "text": [
      "Existing running Phoenix instance detected! Shutting it down and starting a new instance...\n",
      "Overriding of current TracerProvider is not allowed\n",
      "Attempting to instrument while already instrumented\n"
     ]
    },
    {
     "name": "stdout",
     "output_type": "stream",
     "text": [
      "🌍 To view the Phoenix app in your browser, visit http://localhost:6006/\n",
      "📖 For more information on how to use Phoenix, check out https://docs.arize.com/phoenix\n",
      "🔭 OpenTelemetry Tracing Details 🔭\n",
      "|  Phoenix Project: fourth_wall_app\n",
      "|  Span Processor: SimpleSpanProcessor\n",
      "|  Collector Endpoint: localhost:4317\n",
      "|  Transport: gRPC\n",
      "|  Transport Headers: {'user-agent': '****'}\n",
      "|  \n",
      "|  Using a default SpanProcessor. `add_span_processor` will overwrite this default.\n",
      "|  \n",
      "|  `register` has set this TracerProvider as the global OpenTelemetry default.\n",
      "|  To disable this behavior, call `register` with `set_global_tracer_provider=False`.\n",
      "\n"
     ]
    }
   ],
   "source": [
    "# Launch Phoenix\n",
    "px.launch_app()\n",
    "\n",
    "# defaults to endpoint=\"http://localhost:4317\"\n",
    "tracer_provider = register(\n",
    "  project_name=\"fourth_wall_app\", # Default is 'default'\n",
    "  endpoint=\"http://localhost:4317\",  # Sends traces using gRPC\n",
    ") \n",
    "\n",
    "OpenAIInstrumentor().instrument(tracer_provider=tracer_provider)"
   ]
  },
  {
   "cell_type": "code",
   "execution_count": 17,
   "metadata": {},
   "outputs": [],
   "source": [
    "load_dotenv()\n",
    "openai_api_key = os.getenv(\"OPENAI_API_KEY\")\n",
    "client = OpenAI(\n",
    "    api_key=openai_api_key\n",
    ")"
   ]
  },
  {
   "cell_type": "code",
   "execution_count": 18,
   "metadata": {},
   "outputs": [],
   "source": [
    "def get_wikipedia_summary(title):\n",
    "    \"\"\"\n",
    "    Fetches the first extract of a Wikipedia article using the public MediaWiki API.\n",
    "    Returns a text summary or an empty string if not found.\n",
    "    \"\"\"\n",
    "    base_url = \"https://en.wikipedia.org/w/api.php\"\n",
    "    params = {\n",
    "        \"action\": \"query\",\n",
    "        \"prop\": \"extracts\",\n",
    "        \"explaintext\": True,\n",
    "        \"format\": \"json\",\n",
    "        \"titles\": title\n",
    "    }\n",
    "    try:\n",
    "        response = requests.get(base_url, params=params, timeout=10)\n",
    "        response.raise_for_status()\n",
    "        data = response.json()\n",
    "        pages = data.get(\"query\", {}).get(\"pages\", {})\n",
    "        for page_id, page_content in pages.items():\n",
    "            if \"extract\" in page_content:\n",
    "                # This is a raw textual extract from Wikipedia\n",
    "                return page_content[\"extract\"]\n",
    "    except requests.RequestException as e:\n",
    "        print(f\"[Wikipedia] Error fetching summary: {e}\")\n",
    "\n",
    "    return \"\""
   ]
  },
  {
   "cell_type": "code",
   "execution_count": 19,
   "metadata": {},
   "outputs": [
    {
     "name": "stdout",
     "output_type": "stream",
     "text": [
      "Klara and the Sun is the eighth novel by the British writer Kazuo Ishiguro, published on 2 March 2021. It is a dystopian science fiction story.\n",
      "Set in the U.S. in an unspecified future, the book is told from the point of view of Klara, a solar-powered AF (Artificial Friend), who is chosen by Josie, a sickly child, to be her companion. \n",
      "The novel was longlisted for the 2021 Booker Prize.\n",
      "\n",
      "\n",
      "== Plot ==\n",
      "The novel is set in a dystopian future in which some children are genetically engineered (\"lifted\") for enhanced academic ability. As schooling is provided entirely at home by on-screen tutors, opportunities for socialization are limited and parents who can afford it often buy their children androids as companions. The book is narrated by one such Artificial Friend (AF) called Klara. Although Klara is exceptionally intelligent and observant, her knowledge of the world is limited.\n",
      "From the window of the store in which she is for sale, Klara learns about the world outside and watches the Sun, which she always refers to as \"he\" and treats as a living entity. As a solar-powered AF, the Sun's nourishment is of great importance to her. On one occasion she notices that a beggar and his dog are not in their usual position; they are lying like discarded bags and do not move all day. It seems obvious to Klara that they have died, and she is surprised the next morning to see that they are living and that the Sun has with his great kindness saved them with a special kind of nourishment.\n",
      "Klara comes to fear and hate what she calls the \"Cootings Machine\" (from the name printed on its side) which stands for several days in the street outside, spewing out pollution that entirely blocks the Sun's rays.\n",
      "Klara is chosen by 14-year-old Josie, who lives with her mother in a remote region of prairie. Soon after joining them, Klara learns that the lifting process carries some risk: Josie's older sister Sal had earlier died, and Josie herself is gravely ill.\n",
      "Josie's only near neighbour and childhood friend is Rick, a boy of about her own age. Although academically able, Rick has not been lifted and faces discrimination and reduced career prospects. In spite of this, Josie and Rick have always known that they will be together forever.\n",
      "From Josie's bedroom Klara has a good view of the Sun's progress across the sky, and comes to believe that he goes to his nightly rest within a farmer's barn that stands on the horizon. With Rick's help, she makes her way there one evening across the grasslands. Although surprised to find the Sun's resting place is not actually in the barn, she pleads with him to pour his special kind of nourishment onto Josie and to save her life, as he did the beggar. She offers in return to find and destroy the pollution-creating Cootings Machine.\n",
      "Josie's mother unexpectedly asks Klara to imitate Josie, which due to her exceptional powers of observation she can do almost perfectly. The mother regularly takes Josie to sit for her portrait, although unknown to her daughter the artist is making not a painting but a highly-accurate AF body. She intends that Klara will integrate her intelligence into it if Josie dies, becoming not simply a facsimile but Josie's true continuation.\n",
      "When Klara next accompanies Josie into town, she finds and destroys a Cootings Machine, sacrificing in the process some of the P-E-G Nine solution she carries in her head and accepting that the loss may result in a reduction in her abilities. But Josie's condition worsens and the Sun does not respond. Klara returns to the barn to make another plea, reminding the Sun of Josie and Rick's genuine and everlasting love. Several days later as Josie seems near death Klara suddenly sees the dark clouds part, and the Sun sends his special nourishment flooding into her sick room. Josie seems better immediately, and over the following months recovers her health.\n",
      "As Josie grows older she starts to drift away from Rick. Klara worries that she has misled the Sun and Rick comforts her, explaining that although his and Josie's paths in life may differ, their love really was genuine and they will always, at some level, be together. Josie leaves for college, and says goodbye to Klara.\n",
      "The novel closes with Klara settled in a yard for scrapped AFs. She is no longer able to move around, but says she is content with her spot in the yard and declines to socialise with other AFs. The manager of her old store visits, and Klara tells her of happy memories and of the Sun's great kindness towards Josie.\n",
      "\n",
      "\n",
      "== Principal characters ==\n",
      "Klara - An Artificial Friend (AF), the protagonist and narrator of the novel\n",
      "Josie - Teenage girl for whom Klara is purchased\n",
      "Rick - Josie's neighbour and childhood friend\n",
      "Mother - Josie's mother\n",
      "Melania - Housekeeper employed by Josie's family\n",
      "Manager - Unnamed manager who oversees the shop from which Klara is purchased\n",
      "\n",
      "\n",
      "== Publication ==\n",
      "Klara and the Sun was published on 2 March 2021 by Faber and Faber (UK) and Alfred A. Knopf (US). It debuted at number six on The New York Times fiction best-seller list for the week ending 6 March 2021.\n",
      "\n",
      "\n",
      "== Reception ==\n",
      "Klara and the Sun received favourable reviews. According to Book Marks, the book received a \"positive\" consensus, based on fifty-eight critics: twenty-eight \"rave\", twenty-four  \"positive\", and six \"mixed\". On Books in the Media, the book was rated 4.22 out of 5, based on twelve critic reviews. In the May/June 2021 issue of Bookmarks, the book was scored four out of five. The magazine's critical summary reads: \"Throughout, Ishiguro questions the relative worth of both artificial and human life--and the fine line between the two. Is our consciousness more limited--or is Klara's? Whose love is more real? Klara, the NY Times Book Review writes, \"strikes the quintessential Ishiguro chord\" when she says, \"I have my memories to go through and place in the right order\".\n",
      "In its starred review, Kirkus Reviews compared the novel to Ishiguro's Never Let Me Go and called it a \"haunting fable of a lonely, moribund world that is entirely too plausible.\"\n",
      "Publishers Weekly praised the \"rich inner reflections\" of Ishiguro's protagonist, writing, \"Klara's quiet but astute observations of human nature land with profound gravity.\" Publishers Weekly proclaims, \"This dazzling genre-bending work is a delight.\"\n",
      "In her review for The New York Times, Radhika Jones said that Klara and the Sun returns to the theme of The Remains of the Day as \"Ishiguro gives voice to: not the human, but the clone; not the lord, but the servant. Klara and the Sun complements his brilliant vision, though it doesn't reach the artistic heights of his past achievements. . .when Klara says, 'I have my memories to go through and place in the right order', it strikes the quintessential Ishiguro chord.\"\n",
      "In a positive review, Cherwell described Ishiguro's novel as characterised by \"elegance and poise\", praising the narrator Klara as \"a memorable first-person narrative voice, simultaneously robotic and infantile, scrupulous yet naïve.\" The novel's central image of the \"paganistic worship of the Sun, nearly to the level of deification, by a purely mechanical vessel\" is particularly celebrated. However, the book's inclusion of gene editing was criticised as \"overly vague\".\n",
      "The Economist praised the book, stating that it effects \"a cross between Never Let Me Go and The Remains of the Day, with Klara in the place of Stevens, the butler whose first-person narration provided a between-the-lines portrait of morality among the English upper crust in the interwar years.\"\n",
      "Anne Enright, writing in The Guardian, found parallels with a different work by the author: \"The themes of replication and authenticity are similar to those in Kazuo Ishiguro's Never Let Me Go, published in 2005. Both novels are set in a speculative future that feels quite like the present. Both also contain a secret moral shift: an advance in technology that has changed people's sense of what it is to be human, and the emotional punch of Klara, as with Never Let Me Go, comes from the fact that the central character doesn't know what is going on.\" Enright added: \"The novel requires the reader to ask and settle, over and again, while the philosophical content quietly takes hold. Klara and the Sun is a book about what it is to be human. The fact that Ishiguro can make such huge concerns seem so essential and so simple is just one of the reasons he was awarded the Nobel prize. [...] People will absolutely love this book, in part because it enacts the way we learn how to love. Klara and the Sun is wise like a child who decides, just for a little while, to love their doll. 'What can children know about genuine love?' Klara asks. The answer, of course, is everything.\"\n",
      "The novel was longlisted for the 2021 Booker Prize and the 2022 Andrew Carnegie Medal for Excellence in Fiction. It was selected for The Washington Post's \"10 Best Books of 2021\" list. The novel was also featured in \"The 33 best books of 2021\" list in The Times and Barack Obama's summer 2021 reading list.\n",
      "\n",
      "\n",
      "== Adaptations ==\n",
      "The novel was read on BBC Radio 4 by actress Lydia Wilson, abridged by Richard Hamilton. It was broadcast in ten parts between 7 March and 19 March 2021.\n",
      "\n",
      "\n",
      "=== Screen ===\n",
      "\n",
      "In July 2020, Sony's 3000 Pictures acquired the screen rights to the novel. In March 2021, Dahvi Waller was set to write the script, while Ishiguro was set to serve as an executive producer. In May 2023, it was announced that Taika Waititi would direct the film. In February 2024, it was announced that Jenna Ortega was cast as Klara, while Amy Adams was cast as Josie's mother. Newcomers Mia Tharia and Aran Murphy were later announced to have joined the project as Josie and Rick, respectively.\n",
      "\n",
      "\n",
      "=== Music ===\n",
      "The novel is one of the main influences for electronic duo Sun Lo's debut album Shapes in My Head. Singer Richard Walters noted the novel as the jumping off point for main idea of the album, and Attlas added that he felt it connected to many of the new ways that AI was becoming a part of people's lives during the pandemic and into the 2020s.\n",
      "\n",
      "\n",
      "== References ==\n",
      "\n",
      "\n",
      "== External links ==\n",
      "The Guardian Review\n",
      "New York Times Review\n"
     ]
    }
   ],
   "source": [
    "summary = get_wikipedia_summary(book_title)\n",
    "print(summary)"
   ]
  },
  {
   "cell_type": "markdown",
   "metadata": {},
   "source": [
    "# Get a High Level Trailer Script for your book"
   ]
  },
  {
   "cell_type": "code",
   "execution_count": 20,
   "metadata": {},
   "outputs": [],
   "source": [
    "def query_openai(system_prompt, user_prompt):\n",
    "    \"\"\"Send a prompt to OpenAI and return the response.\"\"\"\n",
    "    \n",
    "    completion = client.chat.completions.create(\n",
    "        model=\"gpt-4o\",\n",
    "        messages=[\n",
    "            {\"role\": \"system\", \"content\": system_prompt},\n",
    "            {\"role\": \"user\", \"content\": user_prompt}\n",
    "        ]\n",
    "    )\n",
    "    \n",
    "    return completion.choices[0].message.content"
   ]
  },
  {
   "cell_type": "code",
   "execution_count": 24,
   "metadata": {},
   "outputs": [],
   "source": [
    "# Load the system prompt from system_prompts/story_analysis_prompt.md\n",
    "with open(\"system_prompts/story_analysis_prompt.md\", \"r\") as file:\n",
    "    system_prompt = file.read()\n",
    "\n",
    "# Generate a response using the OpenAI API\n",
    "trailer_description = query_openai(system_prompt, summary)"
   ]
  },
  {
   "cell_type": "code",
   "execution_count": 29,
   "metadata": {},
   "outputs": [
    {
     "name": "stdout",
     "output_type": "stream",
     "text": [
      "A serene view through the dusty window of a store, showcasing Klara, an elegant yet expressionless android, observing the bustling world outside.\n"
     ]
    }
   ],
   "source": [
    "# Step 1: Extract the JSON part from between the triple backticks\n",
    "pattern = r\"```json\\s*(.*?)```\"\n",
    "match = re.search(pattern, trailer_description, flags=re.DOTALL)\n",
    "\n",
    "if match:\n",
    "    # Step 2: Parse the extracted string as JSON\n",
    "    json_str = match.group(1)\n",
    "    data = json.loads(json_str)\n",
    "\n",
    "    # Now data is a Python dictionary you can work with.\n",
    "    print(data[\"clips\"][0][\"visual\"])\n",
    "    # -> \"A serene view through the dusty window of a store...\"\n",
    "else:\n",
    "    print(\"No JSON code block found!\")"
   ]
  },
  {
   "cell_type": "code",
   "execution_count": 31,
   "metadata": {},
   "outputs": [
    {
     "name": "stdout",
     "output_type": "stream",
     "text": [
      "[{'visual': 'A serene view through the dusty window of a store, showcasing Klara, an elegant yet expressionless android, observing the bustling world outside.', 'timing': '0:00-0:10', 'audio': 'A soft hum of city ambiance punctuated by the distant laughter of children and the occasional honk of a car horn.', 'narration': 'In a world where children are engineered and companionship is bought, one Artificial Friend observes life beyond her glass cocoon.'}, {'visual': 'The bright Sun casts long shadows as Klara stands immobile, her eyes reflecting its golden rays with a hint of reverence.', 'timing': '0:11-0:20', 'audio': \"Wind softly swirls, leaves rustling as a gentle melody echoes the Sun's warmth.\", 'narration': 'To Klara, the Sun is a benevolent entity – a giver of life, a symbol of hope.'}, {'visual': \"Josie, frail yet spirited, grips her mother's hand as they step into the store, locking eyes with Klara.\", 'timing': '0:21-0:30', 'audio': 'Tender piano notes interwoven with the light chatter of the store.', 'narration': 'And for Josie, the Sun’s light shines through a companion chosen to navigate life’s uncertainties.'}, {'visual': 'Klara, now in the pastoral setting of Josie’s home, observes the Sun dipping towards the horizon, painting the sky in hues of orange and purple.', 'timing': '0:31-0:40', 'audio': 'The call of distant birds and the gentle sway of prairie grasses in the evening breeze.', 'narration': 'In the shadow of illness, Klara finds purpose, believing the Sun holds the power to heal.'}, {'visual': 'An imposing Cootings Machine rumbles, spewing dark smoke that eclipses the Sun. Klara stands amid the chaos, her eyes determined.', 'timing': '0:41-0:50', 'audio': 'Mechanical grinding underscored by an ominous bass drone.', 'narration': 'Faced with darkness, Klara vows to restore light, no matter the cost.'}, {'visual': 'Under a shimmering night sky, Klara and Rick wander the grasslands, reaching a humble barn silhouetted against the stars.', 'timing': '0:51-1:00', 'audio': 'Ethereal strings softly play, accompanied by their footsteps through the tall, whispering grass.', 'narration': 'In the purity of love, Klara seeks divine intervention, a plea for the Sun’s mercy.'}, {'visual': 'The Sun bursts through clouds, flooding Josie’s room with radiant light as she breathes deeply, a faint smile on her lips.', 'timing': '1:01-1:15', 'audio': 'A crescendo of orchestral strings swells, harmonizing with Josie’s breathy exhales.', 'narration': 'A miracle unfolds within the Sun’s embrace, life resonates anew.'}, {'visual': 'Years later, an immobile Klara rests in a field of forgotten androids, contentment etched into her features as the Sun sets.', 'timing': '1:16-1:30', 'audio': 'A serene silence broken only by the distant call of a lonesome bird, the orchestral music fading to a gentle close.', 'narration': \"For Klara, the memories remain; a testament to the Sun's kindness and the enduring spirit of love.\"}]\n"
     ]
    }
   ],
   "source": [
    "trailer_clips = data[\"clips\"]\n",
    "print(trailer_clips)"
   ]
  },
  {
   "cell_type": "markdown",
   "metadata": {},
   "source": [
    "# Create Video and Audio"
   ]
  },
  {
   "cell_type": "code",
   "execution_count": 33,
   "metadata": {},
   "outputs": [],
   "source": [
    "from lumaai import AsyncLumaAI, LumaAI\n",
    "from dotenv import load_dotenv\n",
    "\n",
    "import requests\n",
    "import time\n",
    "import os\n",
    "\n",
    "from pyht import Client\n",
    "from pyht.client import TTSOptions\n",
    "\n",
    "load_dotenv()\n",
    "client = LumaAI()"
   ]
  },
  {
   "cell_type": "code",
   "execution_count": null,
   "metadata": {},
   "outputs": [
    {
     "data": {
      "text/plain": [
       "[{'visual': 'A serene view through the dusty window of a store, showcasing Klara, an elegant yet expressionless android, observing the bustling world outside.',\n",
       "  'timing': '0:00-0:10',\n",
       "  'audio': 'A soft hum of city ambiance punctuated by the distant laughter of children and the occasional honk of a car horn.',\n",
       "  'narration': 'In a world where children are engineered and companionship is bought, one Artificial Friend observes life beyond her glass cocoon.'},\n",
       " {'visual': 'The bright Sun casts long shadows as Klara stands immobile, her eyes reflecting its golden rays with a hint of reverence.',\n",
       "  'timing': '0:11-0:20',\n",
       "  'audio': \"Wind softly swirls, leaves rustling as a gentle melody echoes the Sun's warmth.\",\n",
       "  'narration': 'To Klara, the Sun is a benevolent entity – a giver of life, a symbol of hope.'},\n",
       " {'visual': \"Josie, frail yet spirited, grips her mother's hand as they step into the store, locking eyes with Klara.\",\n",
       "  'timing': '0:21-0:30',\n",
       "  'audio': 'Tender piano notes interwoven with the light chatter of the store.',\n",
       "  'narration': 'And for Josie, the Sun’s light shines through a companion chosen to navigate life’s uncertainties.'},\n",
       " {'visual': 'Klara, now in the pastoral setting of Josie’s home, observes the Sun dipping towards the horizon, painting the sky in hues of orange and purple.',\n",
       "  'timing': '0:31-0:40',\n",
       "  'audio': 'The call of distant birds and the gentle sway of prairie grasses in the evening breeze.',\n",
       "  'narration': 'In the shadow of illness, Klara finds purpose, believing the Sun holds the power to heal.'},\n",
       " {'visual': 'An imposing Cootings Machine rumbles, spewing dark smoke that eclipses the Sun. Klara stands amid the chaos, her eyes determined.',\n",
       "  'timing': '0:41-0:50',\n",
       "  'audio': 'Mechanical grinding underscored by an ominous bass drone.',\n",
       "  'narration': 'Faced with darkness, Klara vows to restore light, no matter the cost.'},\n",
       " {'visual': 'Under a shimmering night sky, Klara and Rick wander the grasslands, reaching a humble barn silhouetted against the stars.',\n",
       "  'timing': '0:51-1:00',\n",
       "  'audio': 'Ethereal strings softly play, accompanied by their footsteps through the tall, whispering grass.',\n",
       "  'narration': 'In the purity of love, Klara seeks divine intervention, a plea for the Sun’s mercy.'},\n",
       " {'visual': 'The Sun bursts through clouds, flooding Josie’s room with radiant light as she breathes deeply, a faint smile on her lips.',\n",
       "  'timing': '1:01-1:15',\n",
       "  'audio': 'A crescendo of orchestral strings swells, harmonizing with Josie’s breathy exhales.',\n",
       "  'narration': 'A miracle unfolds within the Sun’s embrace, life resonates anew.'},\n",
       " {'visual': 'Years later, an immobile Klara rests in a field of forgotten androids, contentment etched into her features as the Sun sets.',\n",
       "  'timing': '1:16-1:30',\n",
       "  'audio': 'A serene silence broken only by the distant call of a lonesome bird, the orchestral music fading to a gentle close.',\n",
       "  'narration': \"For Klara, the memories remain; a testament to the Sun's kindness and the enduring spirit of love.\"}]"
      ]
     },
     "execution_count": 34,
     "metadata": {},
     "output_type": "execute_result"
    }
   ],
   "source": [
    "def text_to_speech(narrative_text, clip_number, book_title):\n",
    "    client = Client(\n",
    "        user_id=os.getenv(\"PLAY_HT_USER_ID\"),\n",
    "        api_key=os.getenv(\"PLAY_HT_API_KEY\"),\n",
    "    )\n",
    "    options = TTSOptions(voice=\"s3://voice-cloning-zero-shot/775ae416-49bb-4fb6-bd45-740f205d20a1/jennifersaad/manifest.json\")\n",
    "    # Open a file to save the audio\n",
    "    with open(f\"first_clips/{book_title}/{clip_number}/narration.wav\", \"wb\") as audio_file:\n",
    "        for chunk in client.tts(narrative_text, options, voice_engine = 'PlayDialog-http'):\n",
    "            # Write the audio chunk to the file\n",
    "            audio_file.write(chunk)"
   ]
  },
  {
   "cell_type": "code",
   "execution_count": 35,
   "metadata": {},
   "outputs": [],
   "source": [
    "# create a directory in first_clips withthe book title and a subdirectory for each clip\n",
    "try:\n",
    "      os.makedirs(f'first_clips/{book_title}')\n",
    "except FileExistsError:\n",
    "      pass\n"
   ]
  },
  {
   "cell_type": "code",
   "execution_count": 38,
   "metadata": {},
   "outputs": [],
   "source": [
    "def text_to_speech(narrative_text, clip_number, book_title):\n",
    "    client = Client(\n",
    "        user_id=os.getenv(\"PLAY_HT_USER_ID\"),\n",
    "        api_key=os.getenv(\"PLAY_HT_API_KEY\"),\n",
    "    )\n",
    "    options = TTSOptions(voice=\"s3://voice-cloning-zero-shot/775ae416-49bb-4fb6-bd45-740f205d20a1/jennifersaad/manifest.json\")\n",
    "    # Open a file to save the audio\n",
    "    with open(f\"first_clips/{book_title}/{clip_number}/narration.wav\", \"wb\") as audio_file:\n",
    "        for chunk in client.tts(narrative_text, options, voice_engine = 'PlayDialog-http'):\n",
    "            # Write the audio chunk to the file\n",
    "            audio_file.write(chunk)"
   ]
  },
  {
   "cell_type": "code",
   "execution_count": 39,
   "metadata": {},
   "outputs": [
    {
     "name": "stdout",
     "output_type": "stream",
     "text": [
      "...\n",
      "...\n",
      "...\n",
      "...\n",
      "...\n",
      "...\n",
      "...\n",
      "...\n",
      "...\n",
      "...\n",
      "...\n",
      "...\n",
      "...\n",
      "...\n",
      "...\n",
      "...\n",
      "...\n",
      "Video Clip downloaded as f4a7c2ce-e686-4594-9c52-4ef90d49edf6.mp4\n"
     ]
    },
    {
     "name": "stderr",
     "output_type": "stream",
     "text": [
      "WARNING:root:Voice engine PlayDialog-http is deprecated;                         separately pass voice_engine='PlayDialog' and protocol='http'.\n"
     ]
    },
    {
     "name": "stdout",
     "output_type": "stream",
     "text": [
      "Narration for clip 0 generated\n",
      "...\n",
      "...\n",
      "...\n",
      "...\n",
      "...\n",
      "...\n",
      "...\n",
      "...\n",
      "...\n",
      "...\n",
      "...\n",
      "...\n",
      "...\n",
      "...\n",
      "...\n",
      "...\n",
      "...\n",
      "...\n",
      "...\n",
      "...\n",
      "...\n",
      "Video Clip downloaded as 41ecc800-de58-4d05-86cf-bd9fadb603cd.mp4\n"
     ]
    },
    {
     "name": "stderr",
     "output_type": "stream",
     "text": [
      "WARNING:root:Voice engine PlayDialog-http is deprecated;                         separately pass voice_engine='PlayDialog' and protocol='http'.\n"
     ]
    },
    {
     "name": "stdout",
     "output_type": "stream",
     "text": [
      "Narration for clip 1 generated\n",
      "...\n",
      "...\n",
      "...\n",
      "...\n",
      "...\n",
      "...\n",
      "...\n",
      "...\n",
      "...\n",
      "...\n",
      "...\n",
      "...\n",
      "...\n",
      "...\n",
      "...\n",
      "...\n",
      "...\n",
      "...\n",
      "...\n",
      "...\n",
      "...\n",
      "...\n",
      "...\n",
      "...\n",
      "...\n",
      "...\n",
      "...\n",
      "...\n",
      "Video Clip downloaded as 51b2c707-8479-4469-9ff0-879114a51156.mp4\n"
     ]
    },
    {
     "name": "stderr",
     "output_type": "stream",
     "text": [
      "WARNING:root:Voice engine PlayDialog-http is deprecated;                         separately pass voice_engine='PlayDialog' and protocol='http'.\n"
     ]
    },
    {
     "name": "stdout",
     "output_type": "stream",
     "text": [
      "Narration for clip 2 generated\n",
      "...\n",
      "...\n",
      "...\n",
      "...\n",
      "...\n",
      "...\n",
      "...\n",
      "...\n",
      "...\n",
      "...\n",
      "...\n",
      "...\n",
      "...\n",
      "...\n",
      "...\n",
      "...\n",
      "...\n",
      "...\n",
      "...\n",
      "...\n",
      "Video Clip downloaded as e402ac78-cae4-4bcb-beb8-eeabebf19aea.mp4\n"
     ]
    },
    {
     "name": "stderr",
     "output_type": "stream",
     "text": [
      "WARNING:root:Voice engine PlayDialog-http is deprecated;                         separately pass voice_engine='PlayDialog' and protocol='http'.\n"
     ]
    },
    {
     "name": "stdout",
     "output_type": "stream",
     "text": [
      "Narration for clip 3 generated\n",
      "...\n",
      "...\n",
      "...\n",
      "...\n",
      "...\n",
      "...\n",
      "...\n",
      "...\n",
      "...\n",
      "...\n",
      "...\n",
      "...\n",
      "...\n",
      "...\n",
      "...\n",
      "...\n",
      "...\n",
      "...\n",
      "...\n",
      "...\n",
      "...\n",
      "...\n",
      "...\n",
      "...\n",
      "Video Clip downloaded as a927fa42-c70a-4d03-b348-5bd8607fe100.mp4\n"
     ]
    },
    {
     "name": "stderr",
     "output_type": "stream",
     "text": [
      "WARNING:root:Voice engine PlayDialog-http is deprecated;                         separately pass voice_engine='PlayDialog' and protocol='http'.\n"
     ]
    },
    {
     "name": "stdout",
     "output_type": "stream",
     "text": [
      "Narration for clip 4 generated\n",
      "...\n",
      "...\n",
      "...\n",
      "...\n",
      "...\n",
      "...\n",
      "...\n",
      "...\n",
      "...\n",
      "...\n",
      "...\n",
      "...\n",
      "...\n",
      "...\n",
      "...\n",
      "...\n",
      "...\n",
      "...\n",
      "...\n",
      "...\n",
      "...\n",
      "...\n",
      "...\n",
      "...\n",
      "Video Clip downloaded as c13b8e5e-d633-45dd-86ab-91ec2ba90009.mp4\n"
     ]
    },
    {
     "name": "stderr",
     "output_type": "stream",
     "text": [
      "WARNING:root:Voice engine PlayDialog-http is deprecated;                         separately pass voice_engine='PlayDialog' and protocol='http'.\n"
     ]
    },
    {
     "name": "stdout",
     "output_type": "stream",
     "text": [
      "Narration for clip 5 generated\n"
     ]
    },
    {
     "ename": "BadRequestError",
     "evalue": "Error code: 400 - {'detail': 'Insufficient credits'}",
     "output_type": "error",
     "traceback": [
      "\u001b[0;31m---------------------------------------------------------------------------\u001b[0m",
      "\u001b[0;31mBadRequestError\u001b[0m                           Traceback (most recent call last)",
      "Cell \u001b[0;32mIn[39], line 3\u001b[0m\n\u001b[1;32m      1\u001b[0m \u001b[38;5;66;03m# generate\u001b[39;00m\n\u001b[1;32m      2\u001b[0m \u001b[38;5;28;01mfor\u001b[39;00m i, clip \u001b[38;5;129;01min\u001b[39;00m \u001b[38;5;28menumerate\u001b[39m(trailer_clips):\n\u001b[0;32m----> 3\u001b[0m    generation \u001b[38;5;241m=\u001b[39m \u001b[43mclient\u001b[49m\u001b[38;5;241;43m.\u001b[39;49m\u001b[43mgenerations\u001b[49m\u001b[38;5;241;43m.\u001b[39;49m\u001b[43mcreate\u001b[49m\u001b[43m(\u001b[49m\n\u001b[1;32m      4\u001b[0m \u001b[43m   \u001b[49m\u001b[43mprompt\u001b[49m\u001b[38;5;241;43m=\u001b[39;49m\u001b[43mclip\u001b[49m\u001b[43m[\u001b[49m\u001b[38;5;124;43m'\u001b[39;49m\u001b[38;5;124;43mvisual\u001b[39;49m\u001b[38;5;124;43m'\u001b[39;49m\u001b[43m]\u001b[49m\u001b[43m,\u001b[49m\n\u001b[1;32m      5\u001b[0m \u001b[43m   \u001b[49m\u001b[43mmodel\u001b[49m\u001b[38;5;241;43m=\u001b[39;49m\u001b[38;5;124;43m'\u001b[39;49m\u001b[38;5;124;43mray-2\u001b[39;49m\u001b[38;5;124;43m'\u001b[39;49m\u001b[43m,\u001b[49m\n\u001b[1;32m      6\u001b[0m \u001b[43m   \u001b[49m\u001b[43mresolution\u001b[49m\u001b[38;5;241;43m=\u001b[39;49m\u001b[38;5;124;43m'\u001b[39;49m\u001b[38;5;124;43m540p\u001b[39;49m\u001b[38;5;124;43m'\u001b[39;49m\u001b[43m,\u001b[49m\n\u001b[1;32m      7\u001b[0m \u001b[43m   \u001b[49m\u001b[43mduration\u001b[49m\u001b[38;5;241;43m=\u001b[39;49m\u001b[38;5;124;43m'\u001b[39;49m\u001b[38;5;124;43m5s\u001b[39;49m\u001b[38;5;124;43m'\u001b[39;49m\u001b[43m,\u001b[49m\n\u001b[1;32m      8\u001b[0m \u001b[43m   \u001b[49m\u001b[43m)\u001b[49m\n\u001b[1;32m     10\u001b[0m    completed \u001b[38;5;241m=\u001b[39m \u001b[38;5;28;01mFalse\u001b[39;00m\n\u001b[1;32m     11\u001b[0m    \u001b[38;5;28;01mwhile\u001b[39;00m \u001b[38;5;129;01mnot\u001b[39;00m completed:\n",
      "File \u001b[0;32m~/.pyenv/versions/3.11.5/envs/fourthwall/lib/python3.11/site-packages/lumaai/resources/generations/generations.py:136\u001b[0m, in \u001b[0;36mGenerationsResource.create\u001b[0;34m(self, aspect_ratio, callback_url, duration, generation_type, keyframes, loop, model, prompt, resolution, extra_headers, extra_query, extra_body, timeout)\u001b[0m\n\u001b[1;32m     87\u001b[0m \u001b[38;5;28;01mdef\u001b[39;00m\u001b[38;5;250m \u001b[39m\u001b[38;5;21mcreate\u001b[39m(\n\u001b[1;32m     88\u001b[0m     \u001b[38;5;28mself\u001b[39m,\n\u001b[1;32m     89\u001b[0m     \u001b[38;5;241m*\u001b[39m,\n\u001b[0;32m   (...)\u001b[0m\n\u001b[1;32m    104\u001b[0m     timeout: \u001b[38;5;28mfloat\u001b[39m \u001b[38;5;241m|\u001b[39m httpx\u001b[38;5;241m.\u001b[39mTimeout \u001b[38;5;241m|\u001b[39m \u001b[38;5;28;01mNone\u001b[39;00m \u001b[38;5;241m|\u001b[39m NotGiven \u001b[38;5;241m=\u001b[39m NOT_GIVEN,\n\u001b[1;32m    105\u001b[0m ) \u001b[38;5;241m-\u001b[39m\u001b[38;5;241m>\u001b[39m Generation:\n\u001b[1;32m    106\u001b[0m \u001b[38;5;250m    \u001b[39m\u001b[38;5;124;03m\"\"\"\u001b[39;00m\n\u001b[1;32m    107\u001b[0m \u001b[38;5;124;03m    Initiate a new generation with the provided prompt\u001b[39;00m\n\u001b[1;32m    108\u001b[0m \n\u001b[0;32m   (...)\u001b[0m\n\u001b[1;32m    134\u001b[0m \u001b[38;5;124;03m      timeout: Override the client-level default timeout for this request, in seconds\u001b[39;00m\n\u001b[1;32m    135\u001b[0m \u001b[38;5;124;03m    \"\"\"\u001b[39;00m\n\u001b[0;32m--> 136\u001b[0m     \u001b[38;5;28;01mreturn\u001b[39;00m \u001b[38;5;28;43mself\u001b[39;49m\u001b[38;5;241;43m.\u001b[39;49m\u001b[43m_post\u001b[49m\u001b[43m(\u001b[49m\n\u001b[1;32m    137\u001b[0m \u001b[43m        \u001b[49m\u001b[38;5;124;43m\"\u001b[39;49m\u001b[38;5;124;43m/generations\u001b[39;49m\u001b[38;5;124;43m\"\u001b[39;49m\u001b[43m,\u001b[49m\n\u001b[1;32m    138\u001b[0m \u001b[43m        \u001b[49m\u001b[43mbody\u001b[49m\u001b[38;5;241;43m=\u001b[39;49m\u001b[43mmaybe_transform\u001b[49m\u001b[43m(\u001b[49m\n\u001b[1;32m    139\u001b[0m \u001b[43m            \u001b[49m\u001b[43m{\u001b[49m\n\u001b[1;32m    140\u001b[0m \u001b[43m                \u001b[49m\u001b[38;5;124;43m\"\u001b[39;49m\u001b[38;5;124;43maspect_ratio\u001b[39;49m\u001b[38;5;124;43m\"\u001b[39;49m\u001b[43m:\u001b[49m\u001b[43m \u001b[49m\u001b[43maspect_ratio\u001b[49m\u001b[43m,\u001b[49m\n\u001b[1;32m    141\u001b[0m \u001b[43m                \u001b[49m\u001b[38;5;124;43m\"\u001b[39;49m\u001b[38;5;124;43mcallback_url\u001b[39;49m\u001b[38;5;124;43m\"\u001b[39;49m\u001b[43m:\u001b[49m\u001b[43m \u001b[49m\u001b[43mcallback_url\u001b[49m\u001b[43m,\u001b[49m\n\u001b[1;32m    142\u001b[0m \u001b[43m                \u001b[49m\u001b[38;5;124;43m\"\u001b[39;49m\u001b[38;5;124;43mduration\u001b[39;49m\u001b[38;5;124;43m\"\u001b[39;49m\u001b[43m:\u001b[49m\u001b[43m \u001b[49m\u001b[43mduration\u001b[49m\u001b[43m,\u001b[49m\n\u001b[1;32m    143\u001b[0m \u001b[43m                \u001b[49m\u001b[38;5;124;43m\"\u001b[39;49m\u001b[38;5;124;43mgeneration_type\u001b[39;49m\u001b[38;5;124;43m\"\u001b[39;49m\u001b[43m:\u001b[49m\u001b[43m \u001b[49m\u001b[43mgeneration_type\u001b[49m\u001b[43m,\u001b[49m\n\u001b[1;32m    144\u001b[0m \u001b[43m                \u001b[49m\u001b[38;5;124;43m\"\u001b[39;49m\u001b[38;5;124;43mkeyframes\u001b[39;49m\u001b[38;5;124;43m\"\u001b[39;49m\u001b[43m:\u001b[49m\u001b[43m \u001b[49m\u001b[43mkeyframes\u001b[49m\u001b[43m,\u001b[49m\n\u001b[1;32m    145\u001b[0m \u001b[43m                \u001b[49m\u001b[38;5;124;43m\"\u001b[39;49m\u001b[38;5;124;43mloop\u001b[39;49m\u001b[38;5;124;43m\"\u001b[39;49m\u001b[43m:\u001b[49m\u001b[43m \u001b[49m\u001b[43mloop\u001b[49m\u001b[43m,\u001b[49m\n\u001b[1;32m    146\u001b[0m \u001b[43m                \u001b[49m\u001b[38;5;124;43m\"\u001b[39;49m\u001b[38;5;124;43mmodel\u001b[39;49m\u001b[38;5;124;43m\"\u001b[39;49m\u001b[43m:\u001b[49m\u001b[43m \u001b[49m\u001b[43mmodel\u001b[49m\u001b[43m,\u001b[49m\n\u001b[1;32m    147\u001b[0m \u001b[43m                \u001b[49m\u001b[38;5;124;43m\"\u001b[39;49m\u001b[38;5;124;43mprompt\u001b[39;49m\u001b[38;5;124;43m\"\u001b[39;49m\u001b[43m:\u001b[49m\u001b[43m \u001b[49m\u001b[43mprompt\u001b[49m\u001b[43m,\u001b[49m\n\u001b[1;32m    148\u001b[0m \u001b[43m                \u001b[49m\u001b[38;5;124;43m\"\u001b[39;49m\u001b[38;5;124;43mresolution\u001b[39;49m\u001b[38;5;124;43m\"\u001b[39;49m\u001b[43m:\u001b[49m\u001b[43m \u001b[49m\u001b[43mresolution\u001b[49m\u001b[43m,\u001b[49m\n\u001b[1;32m    149\u001b[0m \u001b[43m            \u001b[49m\u001b[43m}\u001b[49m\u001b[43m,\u001b[49m\n\u001b[1;32m    150\u001b[0m \u001b[43m            \u001b[49m\u001b[43mgeneration_create_params\u001b[49m\u001b[38;5;241;43m.\u001b[39;49m\u001b[43mGenerationCreateParams\u001b[49m\u001b[43m,\u001b[49m\n\u001b[1;32m    151\u001b[0m \u001b[43m        \u001b[49m\u001b[43m)\u001b[49m\u001b[43m,\u001b[49m\n\u001b[1;32m    152\u001b[0m \u001b[43m        \u001b[49m\u001b[43moptions\u001b[49m\u001b[38;5;241;43m=\u001b[39;49m\u001b[43mmake_request_options\u001b[49m\u001b[43m(\u001b[49m\n\u001b[1;32m    153\u001b[0m \u001b[43m            \u001b[49m\u001b[43mextra_headers\u001b[49m\u001b[38;5;241;43m=\u001b[39;49m\u001b[43mextra_headers\u001b[49m\u001b[43m,\u001b[49m\u001b[43m \u001b[49m\u001b[43mextra_query\u001b[49m\u001b[38;5;241;43m=\u001b[39;49m\u001b[43mextra_query\u001b[49m\u001b[43m,\u001b[49m\u001b[43m \u001b[49m\u001b[43mextra_body\u001b[49m\u001b[38;5;241;43m=\u001b[39;49m\u001b[43mextra_body\u001b[49m\u001b[43m,\u001b[49m\u001b[43m \u001b[49m\u001b[43mtimeout\u001b[49m\u001b[38;5;241;43m=\u001b[39;49m\u001b[43mtimeout\u001b[49m\n\u001b[1;32m    154\u001b[0m \u001b[43m        \u001b[49m\u001b[43m)\u001b[49m\u001b[43m,\u001b[49m\n\u001b[1;32m    155\u001b[0m \u001b[43m        \u001b[49m\u001b[43mcast_to\u001b[49m\u001b[38;5;241;43m=\u001b[39;49m\u001b[43mGeneration\u001b[49m\u001b[43m,\u001b[49m\n\u001b[1;32m    156\u001b[0m \u001b[43m    \u001b[49m\u001b[43m)\u001b[49m\n",
      "File \u001b[0;32m~/.pyenv/versions/3.11.5/envs/fourthwall/lib/python3.11/site-packages/lumaai/_base_client.py:1273\u001b[0m, in \u001b[0;36mSyncAPIClient.post\u001b[0;34m(self, path, cast_to, body, options, files, stream, stream_cls)\u001b[0m\n\u001b[1;32m   1259\u001b[0m \u001b[38;5;28;01mdef\u001b[39;00m\u001b[38;5;250m \u001b[39m\u001b[38;5;21mpost\u001b[39m(\n\u001b[1;32m   1260\u001b[0m     \u001b[38;5;28mself\u001b[39m,\n\u001b[1;32m   1261\u001b[0m     path: \u001b[38;5;28mstr\u001b[39m,\n\u001b[0;32m   (...)\u001b[0m\n\u001b[1;32m   1268\u001b[0m     stream_cls: \u001b[38;5;28mtype\u001b[39m[_StreamT] \u001b[38;5;241m|\u001b[39m \u001b[38;5;28;01mNone\u001b[39;00m \u001b[38;5;241m=\u001b[39m \u001b[38;5;28;01mNone\u001b[39;00m,\n\u001b[1;32m   1269\u001b[0m ) \u001b[38;5;241m-\u001b[39m\u001b[38;5;241m>\u001b[39m ResponseT \u001b[38;5;241m|\u001b[39m _StreamT:\n\u001b[1;32m   1270\u001b[0m     opts \u001b[38;5;241m=\u001b[39m FinalRequestOptions\u001b[38;5;241m.\u001b[39mconstruct(\n\u001b[1;32m   1271\u001b[0m         method\u001b[38;5;241m=\u001b[39m\u001b[38;5;124m\"\u001b[39m\u001b[38;5;124mpost\u001b[39m\u001b[38;5;124m\"\u001b[39m, url\u001b[38;5;241m=\u001b[39mpath, json_data\u001b[38;5;241m=\u001b[39mbody, files\u001b[38;5;241m=\u001b[39mto_httpx_files(files), \u001b[38;5;241m*\u001b[39m\u001b[38;5;241m*\u001b[39moptions\n\u001b[1;32m   1272\u001b[0m     )\n\u001b[0;32m-> 1273\u001b[0m     \u001b[38;5;28;01mreturn\u001b[39;00m cast(ResponseT, \u001b[38;5;28;43mself\u001b[39;49m\u001b[38;5;241;43m.\u001b[39;49m\u001b[43mrequest\u001b[49m\u001b[43m(\u001b[49m\u001b[43mcast_to\u001b[49m\u001b[43m,\u001b[49m\u001b[43m \u001b[49m\u001b[43mopts\u001b[49m\u001b[43m,\u001b[49m\u001b[43m \u001b[49m\u001b[43mstream\u001b[49m\u001b[38;5;241;43m=\u001b[39;49m\u001b[43mstream\u001b[49m\u001b[43m,\u001b[49m\u001b[43m \u001b[49m\u001b[43mstream_cls\u001b[49m\u001b[38;5;241;43m=\u001b[39;49m\u001b[43mstream_cls\u001b[49m\u001b[43m)\u001b[49m)\n",
      "File \u001b[0;32m~/.pyenv/versions/3.11.5/envs/fourthwall/lib/python3.11/site-packages/lumaai/_base_client.py:965\u001b[0m, in \u001b[0;36mSyncAPIClient.request\u001b[0;34m(self, cast_to, options, remaining_retries, stream, stream_cls)\u001b[0m\n\u001b[1;32m    962\u001b[0m \u001b[38;5;28;01melse\u001b[39;00m:\n\u001b[1;32m    963\u001b[0m     retries_taken \u001b[38;5;241m=\u001b[39m \u001b[38;5;241m0\u001b[39m\n\u001b[0;32m--> 965\u001b[0m \u001b[38;5;28;01mreturn\u001b[39;00m \u001b[38;5;28;43mself\u001b[39;49m\u001b[38;5;241;43m.\u001b[39;49m\u001b[43m_request\u001b[49m\u001b[43m(\u001b[49m\n\u001b[1;32m    966\u001b[0m \u001b[43m    \u001b[49m\u001b[43mcast_to\u001b[49m\u001b[38;5;241;43m=\u001b[39;49m\u001b[43mcast_to\u001b[49m\u001b[43m,\u001b[49m\n\u001b[1;32m    967\u001b[0m \u001b[43m    \u001b[49m\u001b[43moptions\u001b[49m\u001b[38;5;241;43m=\u001b[39;49m\u001b[43moptions\u001b[49m\u001b[43m,\u001b[49m\n\u001b[1;32m    968\u001b[0m \u001b[43m    \u001b[49m\u001b[43mstream\u001b[49m\u001b[38;5;241;43m=\u001b[39;49m\u001b[43mstream\u001b[49m\u001b[43m,\u001b[49m\n\u001b[1;32m    969\u001b[0m \u001b[43m    \u001b[49m\u001b[43mstream_cls\u001b[49m\u001b[38;5;241;43m=\u001b[39;49m\u001b[43mstream_cls\u001b[49m\u001b[43m,\u001b[49m\n\u001b[1;32m    970\u001b[0m \u001b[43m    \u001b[49m\u001b[43mretries_taken\u001b[49m\u001b[38;5;241;43m=\u001b[39;49m\u001b[43mretries_taken\u001b[49m\u001b[43m,\u001b[49m\n\u001b[1;32m    971\u001b[0m \u001b[43m\u001b[49m\u001b[43m)\u001b[49m\n",
      "File \u001b[0;32m~/.pyenv/versions/3.11.5/envs/fourthwall/lib/python3.11/site-packages/lumaai/_base_client.py:1068\u001b[0m, in \u001b[0;36mSyncAPIClient._request\u001b[0;34m(self, cast_to, options, retries_taken, stream, stream_cls)\u001b[0m\n\u001b[1;32m   1065\u001b[0m         err\u001b[38;5;241m.\u001b[39mresponse\u001b[38;5;241m.\u001b[39mread()\n\u001b[1;32m   1067\u001b[0m     log\u001b[38;5;241m.\u001b[39mdebug(\u001b[38;5;124m\"\u001b[39m\u001b[38;5;124mRe-raising status error\u001b[39m\u001b[38;5;124m\"\u001b[39m)\n\u001b[0;32m-> 1068\u001b[0m     \u001b[38;5;28;01mraise\u001b[39;00m \u001b[38;5;28mself\u001b[39m\u001b[38;5;241m.\u001b[39m_make_status_error_from_response(err\u001b[38;5;241m.\u001b[39mresponse) \u001b[38;5;28;01mfrom\u001b[39;00m\u001b[38;5;250m \u001b[39m\u001b[38;5;28;01mNone\u001b[39;00m\n\u001b[1;32m   1070\u001b[0m \u001b[38;5;28;01mreturn\u001b[39;00m \u001b[38;5;28mself\u001b[39m\u001b[38;5;241m.\u001b[39m_process_response(\n\u001b[1;32m   1071\u001b[0m     cast_to\u001b[38;5;241m=\u001b[39mcast_to,\n\u001b[1;32m   1072\u001b[0m     options\u001b[38;5;241m=\u001b[39moptions,\n\u001b[0;32m   (...)\u001b[0m\n\u001b[1;32m   1076\u001b[0m     retries_taken\u001b[38;5;241m=\u001b[39mretries_taken,\n\u001b[1;32m   1077\u001b[0m )\n",
      "\u001b[0;31mBadRequestError\u001b[0m: Error code: 400 - {'detail': 'Insufficient credits'}"
     ]
    }
   ],
   "source": [
    "# generate\n",
    "for i, clip in enumerate(trailer_clips):\n",
    "   generation = client.generations.create(\n",
    "   prompt=clip['visual'],\n",
    "   model='ray-2',\n",
    "   resolution='540p',\n",
    "   duration='5s',\n",
    "   )\n",
    "\n",
    "   completed = False\n",
    "   while not completed:\n",
    "      generation = client.generations.get(id=generation.id)\n",
    "      if generation.state == \"completed\":\n",
    "         completed = True\n",
    "      elif generation.state == \"failed\":\n",
    "         raise RuntimeError(f\"Generation failed: {generation.failure_reason}\")\n",
    "      print(\"...\")\n",
    "      time.sleep(3)\n",
    "   \n",
    "\n",
    "   video_url = generation.assets.video\n",
    "   response = requests.get(video_url, stream=True)\n",
    "   # check to see if the directory exists\n",
    "   video_path = f'first_clips/{book_title}/{i}'\n",
    "   try:\n",
    "      os.makedirs(video_path)\n",
    "   except FileExistsError:\n",
    "      pass\n",
    "   with open(f'first_clips/{book_title}/{i}/{generation.id}.mp4', 'wb') as file:\n",
    "      file.write(response.content)\n",
    "   print(f\"Video Clip downloaded as {generation.id}.mp4\")\n",
    "   \n",
    "   text_to_speech(clip['narration'], i, book_title)\n",
    "   print(f\"Narration for clip {i} generated\")\n"
   ]
  },
  {
   "cell_type": "markdown",
   "metadata": {},
   "source": [
    "# Stitch Together Audio and Video"
   ]
  },
  {
   "cell_type": "code",
   "execution_count": null,
   "metadata": {},
   "outputs": [],
   "source": [
    "from moviepy import VideoFileClip, AudioFileClip, concatenate_videoclips\n",
    "\n",
    "def stitch_trailer(book_title, number_of_clips):\n",
    "\n",
    "    clips = []\n",
    "\n",
    "    for i in range(number_of_clips):\n",
    "        folder_path = f\"{book_title}/{i+1}/\"\n",
    "\n",
    "        video_clip = VideoFileClip(f\"{folder_path}video.mp4\")\n",
    "        audio_clip = AudioFileClip(f\"{folder_path}/audio.wav\")\n",
    "\n",
    "        audio_clip = audio_clip.set_duration(video_clip.duration)\n",
    "\n",
    "        # Combine video with audio\n",
    "        final_clip = video_clip.set_audio(audio_clip)\n",
    "\n",
    "        # Option 1: Write the final video to a file\n",
    "        final_clip.write_videofile(f\"{folder_path}/{i+1}.mp4\", codec=\"libx264\", audio_codec=\"aac\")\n",
    "\n",
    "        clips.append(VideoFileClip(f\"{folder_path}/{i+1}.mp4\"))\n",
    "\n",
    "    final_clip = concatenate_videoclips(clips)\n",
    "\n",
    "    final_clip.write_videofile(f\"{book_title}/final_clip.mp4\", codec=\"libx264\", audio_codec=\"aac\")"
   ]
  }
 ],
 "metadata": {
  "kernelspec": {
   "display_name": "fourthwall",
   "language": "python",
   "name": "python3"
  },
  "language_info": {
   "codemirror_mode": {
    "name": "ipython",
    "version": 3
   },
   "file_extension": ".py",
   "mimetype": "text/x-python",
   "name": "python",
   "nbconvert_exporter": "python",
   "pygments_lexer": "ipython3",
   "version": "3.11.5"
  }
 },
 "nbformat": 4,
 "nbformat_minor": 2
}
